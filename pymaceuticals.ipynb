{
 "cells": [
  {
   "cell_type": "markdown",
   "id": "530bd193",
   "metadata": {},
   "source": [
    "# Pymaceuticals Inc.\n",
    "---\n",
    "\n",
    "### Analysis\n",
    "\n",
    "- Write at least three observations or inferences that can be made from the data. Include these observations at the top of your notebook."
   ]
  },
  {
   "cell_type": "code",
   "execution_count": 1,
   "id": "065cea47",
   "metadata": {},
   "outputs": [],
   "source": [
    "#!pip matplotlib"
   ]
  },
  {
   "cell_type": "code",
   "execution_count": 2,
   "id": "82cf337c",
   "metadata": {},
   "outputs": [],
   "source": [
    "# Dependencies and Setup\n",
    "import matplotlib.pyplot as plt\n",
    "import pandas as pd\n",
    "import scipy.stats as st\n",
    "import numpy as np\n",
    "import seaborn as sns\n"
   ]
  },
  {
   "cell_type": "code",
   "execution_count": 3,
   "id": "402c9ef2",
   "metadata": {},
   "outputs": [],
   "source": [
    "# Study data files\n",
    "mouse_metadata_path = \"data/Mouse_metadata.csv\"\n",
    "study_results_path = \"data/Study_results.csv\"\n",
    "\n",
    "# Read the mouse data and the study results\n",
    "mouse_metadata = pd.read_csv(mouse_metadata_path)\n",
    "study_results = pd.read_csv(study_results_path)\n",
    "\n",
    "mouse_metadata_df = pd.DataFrame(mouse_metadata)\n",
    "study_results_df = pd.DataFrame(study_results)\n",
    "#study_results_df.head()"
   ]
  },
  {
   "cell_type": "code",
   "execution_count": 4,
   "id": "6d5c5d96",
   "metadata": {},
   "outputs": [
    {
     "name": "stdout",
     "output_type": "stream",
     "text": [
      "Index(['Mouse ID', 'Drug Regimen', 'Sex', 'Age_months', 'Weight (g)'], dtype='object')\n",
      "Index(['Mouse ID', 'Timepoint', 'Tumor Volume (mm3)', 'Metastatic Sites'], dtype='object')\n"
     ]
    }
   ],
   "source": [
    "#Look at columns to find where to merge\n",
    "print(mouse_metadata.columns)\n",
    "print(study_results.columns)\n"
   ]
  },
  {
   "cell_type": "code",
   "execution_count": 5,
   "id": "21b76345",
   "metadata": {},
   "outputs": [
    {
     "data": {
      "text/html": [
       "<div>\n",
       "<style scoped>\n",
       "    .dataframe tbody tr th:only-of-type {\n",
       "        vertical-align: middle;\n",
       "    }\n",
       "\n",
       "    .dataframe tbody tr th {\n",
       "        vertical-align: top;\n",
       "    }\n",
       "\n",
       "    .dataframe thead th {\n",
       "        text-align: right;\n",
       "    }\n",
       "</style>\n",
       "<table border=\"1\" class=\"dataframe\">\n",
       "  <thead>\n",
       "    <tr style=\"text-align: right;\">\n",
       "      <th></th>\n",
       "      <th>Mouse ID</th>\n",
       "      <th>Timepoint</th>\n",
       "      <th>Tumor Volume (mm3)</th>\n",
       "      <th>Metastatic Sites</th>\n",
       "      <th>Drug Regimen</th>\n",
       "      <th>Sex</th>\n",
       "      <th>Age_months</th>\n",
       "      <th>Weight (g)</th>\n",
       "    </tr>\n",
       "  </thead>\n",
       "  <tbody>\n",
       "    <tr>\n",
       "      <th>0</th>\n",
       "      <td>b128</td>\n",
       "      <td>0</td>\n",
       "      <td>45.000000</td>\n",
       "      <td>0</td>\n",
       "      <td>Capomulin</td>\n",
       "      <td>Female</td>\n",
       "      <td>9</td>\n",
       "      <td>22</td>\n",
       "    </tr>\n",
       "    <tr>\n",
       "      <th>1</th>\n",
       "      <td>b128</td>\n",
       "      <td>5</td>\n",
       "      <td>45.651331</td>\n",
       "      <td>0</td>\n",
       "      <td>Capomulin</td>\n",
       "      <td>Female</td>\n",
       "      <td>9</td>\n",
       "      <td>22</td>\n",
       "    </tr>\n",
       "    <tr>\n",
       "      <th>2</th>\n",
       "      <td>b128</td>\n",
       "      <td>10</td>\n",
       "      <td>43.270852</td>\n",
       "      <td>0</td>\n",
       "      <td>Capomulin</td>\n",
       "      <td>Female</td>\n",
       "      <td>9</td>\n",
       "      <td>22</td>\n",
       "    </tr>\n",
       "    <tr>\n",
       "      <th>3</th>\n",
       "      <td>b128</td>\n",
       "      <td>15</td>\n",
       "      <td>43.784893</td>\n",
       "      <td>0</td>\n",
       "      <td>Capomulin</td>\n",
       "      <td>Female</td>\n",
       "      <td>9</td>\n",
       "      <td>22</td>\n",
       "    </tr>\n",
       "    <tr>\n",
       "      <th>4</th>\n",
       "      <td>b128</td>\n",
       "      <td>20</td>\n",
       "      <td>42.731552</td>\n",
       "      <td>0</td>\n",
       "      <td>Capomulin</td>\n",
       "      <td>Female</td>\n",
       "      <td>9</td>\n",
       "      <td>22</td>\n",
       "    </tr>\n",
       "  </tbody>\n",
       "</table>\n",
       "</div>"
      ],
      "text/plain": [
       "  Mouse ID  Timepoint  Tumor Volume (mm3)  Metastatic Sites Drug Regimen  \\\n",
       "0     b128          0           45.000000                 0    Capomulin   \n",
       "1     b128          5           45.651331                 0    Capomulin   \n",
       "2     b128         10           43.270852                 0    Capomulin   \n",
       "3     b128         15           43.784893                 0    Capomulin   \n",
       "4     b128         20           42.731552                 0    Capomulin   \n",
       "\n",
       "      Sex  Age_months  Weight (g)  \n",
       "0  Female           9          22  \n",
       "1  Female           9          22  \n",
       "2  Female           9          22  \n",
       "3  Female           9          22  \n",
       "4  Female           9          22  "
      ]
     },
     "execution_count": 5,
     "metadata": {},
     "output_type": "execute_result"
    }
   ],
   "source": [
    "# Combine the data into a single dataset\n",
    "mouse_study_df = pd.merge(study_results_df, mouse_metadata_df, on=['Mouse ID'])\n",
    "#copy_mouse_study = mouse_study_df\n",
    "mouse_study_df['Drug Regimen'].sort_values()\n",
    "mouse_study_df.head()\n"
   ]
  },
  {
   "cell_type": "code",
   "execution_count": 6,
   "id": "e3f72202",
   "metadata": {},
   "outputs": [
    {
     "data": {
      "text/plain": [
       "Mouse ID              1893\n",
       "Timepoint             1893\n",
       "Tumor Volume (mm3)    1893\n",
       "Metastatic Sites      1893\n",
       "Drug Regimen          1893\n",
       "Sex                   1893\n",
       "Age_months            1893\n",
       "Weight (g)            1893\n",
       "dtype: int64"
      ]
     },
     "execution_count": 6,
     "metadata": {},
     "output_type": "execute_result"
    }
   ],
   "source": [
    "mouse_study_df.count()"
   ]
  },
  {
   "cell_type": "code",
   "execution_count": 7,
   "id": "581fa968",
   "metadata": {},
   "outputs": [
    {
     "name": "stdout",
     "output_type": "stream",
     "text": [
      "249\n"
     ]
    }
   ],
   "source": [
    "#Display the number of unique mice IDs in the data, and then check for any mouse ID with duplicate time points.\n",
    "number_of_mice = len(mouse_study_df['Mouse ID'].unique())\n",
    "print(number_of_mice)\n"
   ]
  },
  {
   "cell_type": "code",
   "execution_count": 95,
   "id": "5bb00b83",
   "metadata": {},
   "outputs": [],
   "source": [
    "#Optional: Get all teh data for the duplicate mouse ID\n",
    "mouse_study_df2 = mouse_study_df[mouse_study_df.duplicated(['Mouse ID',\"Timepoint\"])]\n"
   ]
  },
  {
   "cell_type": "code",
   "execution_count": 9,
   "id": "aaaf8c13",
   "metadata": {},
   "outputs": [
    {
     "data": {
      "text/html": [
       "<div>\n",
       "<style scoped>\n",
       "    .dataframe tbody tr th:only-of-type {\n",
       "        vertical-align: middle;\n",
       "    }\n",
       "\n",
       "    .dataframe tbody tr th {\n",
       "        vertical-align: top;\n",
       "    }\n",
       "\n",
       "    .dataframe thead th {\n",
       "        text-align: right;\n",
       "    }\n",
       "</style>\n",
       "<table border=\"1\" class=\"dataframe\">\n",
       "  <thead>\n",
       "    <tr style=\"text-align: right;\">\n",
       "      <th></th>\n",
       "      <th>Mouse ID</th>\n",
       "      <th>Timepoint</th>\n",
       "      <th>Tumor Volume (mm3)</th>\n",
       "      <th>Metastatic Sites</th>\n",
       "      <th>Drug Regimen</th>\n",
       "      <th>Sex</th>\n",
       "      <th>Age_months</th>\n",
       "      <th>Weight (g)</th>\n",
       "    </tr>\n",
       "  </thead>\n",
       "  <tbody>\n",
       "    <tr>\n",
       "      <th>861</th>\n",
       "      <td>g989</td>\n",
       "      <td>0</td>\n",
       "      <td>45.000000</td>\n",
       "      <td>0</td>\n",
       "      <td>Propriva</td>\n",
       "      <td>Female</td>\n",
       "      <td>21</td>\n",
       "      <td>26</td>\n",
       "    </tr>\n",
       "    <tr>\n",
       "      <th>863</th>\n",
       "      <td>g989</td>\n",
       "      <td>5</td>\n",
       "      <td>47.570392</td>\n",
       "      <td>0</td>\n",
       "      <td>Propriva</td>\n",
       "      <td>Female</td>\n",
       "      <td>21</td>\n",
       "      <td>26</td>\n",
       "    </tr>\n",
       "    <tr>\n",
       "      <th>865</th>\n",
       "      <td>g989</td>\n",
       "      <td>10</td>\n",
       "      <td>49.880528</td>\n",
       "      <td>0</td>\n",
       "      <td>Propriva</td>\n",
       "      <td>Female</td>\n",
       "      <td>21</td>\n",
       "      <td>26</td>\n",
       "    </tr>\n",
       "    <tr>\n",
       "      <th>867</th>\n",
       "      <td>g989</td>\n",
       "      <td>15</td>\n",
       "      <td>53.442020</td>\n",
       "      <td>0</td>\n",
       "      <td>Propriva</td>\n",
       "      <td>Female</td>\n",
       "      <td>21</td>\n",
       "      <td>26</td>\n",
       "    </tr>\n",
       "    <tr>\n",
       "      <th>869</th>\n",
       "      <td>g989</td>\n",
       "      <td>20</td>\n",
       "      <td>54.657650</td>\n",
       "      <td>1</td>\n",
       "      <td>Propriva</td>\n",
       "      <td>Female</td>\n",
       "      <td>21</td>\n",
       "      <td>26</td>\n",
       "    </tr>\n",
       "  </tbody>\n",
       "</table>\n",
       "</div>"
      ],
      "text/plain": [
       "    Mouse ID  Timepoint  Tumor Volume (mm3)  Metastatic Sites Drug Regimen  \\\n",
       "861     g989          0           45.000000                 0     Propriva   \n",
       "863     g989          5           47.570392                 0     Propriva   \n",
       "865     g989         10           49.880528                 0     Propriva   \n",
       "867     g989         15           53.442020                 0     Propriva   \n",
       "869     g989         20           54.657650                 1     Propriva   \n",
       "\n",
       "        Sex  Age_months  Weight (g)  \n",
       "861  Female          21          26  \n",
       "863  Female          21          26  \n",
       "865  Female          21          26  \n",
       "867  Female          21          26  \n",
       "869  Female          21          26  "
      ]
     },
     "execution_count": 9,
     "metadata": {},
     "output_type": "execute_result"
    }
   ],
   "source": [
    "#Duplicated Mouse ID dataframe\n",
    "mouse_study_df2.head()"
   ]
  },
  {
   "cell_type": "code",
   "execution_count": 10,
   "id": "919e0333",
   "metadata": {},
   "outputs": [
    {
     "data": {
      "text/html": [
       "<div>\n",
       "<style scoped>\n",
       "    .dataframe tbody tr th:only-of-type {\n",
       "        vertical-align: middle;\n",
       "    }\n",
       "\n",
       "    .dataframe tbody tr th {\n",
       "        vertical-align: top;\n",
       "    }\n",
       "\n",
       "    .dataframe thead th {\n",
       "        text-align: right;\n",
       "    }\n",
       "</style>\n",
       "<table border=\"1\" class=\"dataframe\">\n",
       "  <thead>\n",
       "    <tr style=\"text-align: right;\">\n",
       "      <th></th>\n",
       "      <th>Mouse ID</th>\n",
       "      <th>Timepoint</th>\n",
       "      <th>Tumor Volume (mm3)</th>\n",
       "      <th>Metastatic Sites</th>\n",
       "      <th>Drug Regimen</th>\n",
       "      <th>Sex</th>\n",
       "      <th>Age_months</th>\n",
       "      <th>Weight (g)</th>\n",
       "    </tr>\n",
       "  </thead>\n",
       "  <tbody>\n",
       "    <tr>\n",
       "      <th>0</th>\n",
       "      <td>b128</td>\n",
       "      <td>0</td>\n",
       "      <td>45.000000</td>\n",
       "      <td>0</td>\n",
       "      <td>Capomulin</td>\n",
       "      <td>Female</td>\n",
       "      <td>9</td>\n",
       "      <td>22</td>\n",
       "    </tr>\n",
       "    <tr>\n",
       "      <th>1</th>\n",
       "      <td>b128</td>\n",
       "      <td>5</td>\n",
       "      <td>45.651331</td>\n",
       "      <td>0</td>\n",
       "      <td>Capomulin</td>\n",
       "      <td>Female</td>\n",
       "      <td>9</td>\n",
       "      <td>22</td>\n",
       "    </tr>\n",
       "    <tr>\n",
       "      <th>2</th>\n",
       "      <td>b128</td>\n",
       "      <td>10</td>\n",
       "      <td>43.270852</td>\n",
       "      <td>0</td>\n",
       "      <td>Capomulin</td>\n",
       "      <td>Female</td>\n",
       "      <td>9</td>\n",
       "      <td>22</td>\n",
       "    </tr>\n",
       "    <tr>\n",
       "      <th>3</th>\n",
       "      <td>b128</td>\n",
       "      <td>15</td>\n",
       "      <td>43.784893</td>\n",
       "      <td>0</td>\n",
       "      <td>Capomulin</td>\n",
       "      <td>Female</td>\n",
       "      <td>9</td>\n",
       "      <td>22</td>\n",
       "    </tr>\n",
       "    <tr>\n",
       "      <th>4</th>\n",
       "      <td>b128</td>\n",
       "      <td>20</td>\n",
       "      <td>42.731552</td>\n",
       "      <td>0</td>\n",
       "      <td>Capomulin</td>\n",
       "      <td>Female</td>\n",
       "      <td>9</td>\n",
       "      <td>22</td>\n",
       "    </tr>\n",
       "  </tbody>\n",
       "</table>\n",
       "</div>"
      ],
      "text/plain": [
       "  Mouse ID  Timepoint  Tumor Volume (mm3)  Metastatic Sites Drug Regimen  \\\n",
       "0     b128          0           45.000000                 0    Capomulin   \n",
       "1     b128          5           45.651331                 0    Capomulin   \n",
       "2     b128         10           43.270852                 0    Capomulin   \n",
       "3     b128         15           43.784893                 0    Capomulin   \n",
       "4     b128         20           42.731552                 0    Capomulin   \n",
       "\n",
       "      Sex  Age_months  Weight (g)  \n",
       "0  Female           9          22  \n",
       "1  Female           9          22  \n",
       "2  Female           9          22  \n",
       "3  Female           9          22  \n",
       "4  Female           9          22  "
      ]
     },
     "execution_count": 10,
     "metadata": {},
     "output_type": "execute_result"
    }
   ],
   "source": [
    "mouse_study_df = mouse_study_df[mouse_study_df[\"Mouse ID\"]!='g989'].copy()\n",
    "mouse_study_df.head()\n",
    "#print(mouse_study_df2[\"Timepoint\"].describe())"
   ]
  },
  {
   "cell_type": "code",
   "execution_count": 11,
   "id": "a9c5676d",
   "metadata": {},
   "outputs": [
    {
     "name": "stdout",
     "output_type": "stream",
     "text": [
      "1632\n",
      "4\n"
     ]
    }
   ],
   "source": [
    "#check to evaluate the numbers are the same.\n",
    "#print(mouse_study_df['Mouse ID'].duplicated().sum())\n",
    "#print(mouse_study_df2['Mouse ID'].duplicated().sum())"
   ]
  },
  {
   "cell_type": "code",
   "execution_count": 12,
   "id": "4e3f94f4",
   "metadata": {},
   "outputs": [
    {
     "name": "stdout",
     "output_type": "stream",
     "text": [
      "248\n"
     ]
    }
   ],
   "source": [
    "number_of_mice = len(mouse_study_df['Mouse ID'].unique())\n",
    "print(number_of_mice)\n",
    "\n",
    "#mouse_study_df2[[\"Sex\"]].describe()\n",
    "#mouse_study_df2[[\"Mouse ID\"]].describe()\n",
    "#mouse_study_df2[[\"Drug Regimen\"]].describe()"
   ]
  },
  {
   "cell_type": "code",
   "execution_count": 98,
   "id": "79299534",
   "metadata": {},
   "outputs": [
    {
     "data": {
      "text/html": [
       "<div>\n",
       "<style scoped>\n",
       "    .dataframe tbody tr th:only-of-type {\n",
       "        vertical-align: middle;\n",
       "    }\n",
       "\n",
       "    .dataframe tbody tr th {\n",
       "        vertical-align: top;\n",
       "    }\n",
       "\n",
       "    .dataframe thead th {\n",
       "        text-align: right;\n",
       "    }\n",
       "</style>\n",
       "<table border=\"1\" class=\"dataframe\">\n",
       "  <thead>\n",
       "    <tr style=\"text-align: right;\">\n",
       "      <th></th>\n",
       "      <th>Mouse ID</th>\n",
       "      <th>Timepoint</th>\n",
       "      <th>Tumor Volume (mm3)</th>\n",
       "      <th>Metastatic Sites</th>\n",
       "      <th>Drug Regimen</th>\n",
       "      <th>Sex</th>\n",
       "      <th>Age_months</th>\n",
       "      <th>Weight (g)</th>\n",
       "    </tr>\n",
       "  </thead>\n",
       "  <tbody>\n",
       "    <tr>\n",
       "      <th>0</th>\n",
       "      <td>b128</td>\n",
       "      <td>0</td>\n",
       "      <td>45.000000</td>\n",
       "      <td>0</td>\n",
       "      <td>Capomulin</td>\n",
       "      <td>Female</td>\n",
       "      <td>9</td>\n",
       "      <td>22</td>\n",
       "    </tr>\n",
       "    <tr>\n",
       "      <th>1</th>\n",
       "      <td>b128</td>\n",
       "      <td>5</td>\n",
       "      <td>45.651331</td>\n",
       "      <td>0</td>\n",
       "      <td>Capomulin</td>\n",
       "      <td>Female</td>\n",
       "      <td>9</td>\n",
       "      <td>22</td>\n",
       "    </tr>\n",
       "    <tr>\n",
       "      <th>2</th>\n",
       "      <td>b128</td>\n",
       "      <td>10</td>\n",
       "      <td>43.270852</td>\n",
       "      <td>0</td>\n",
       "      <td>Capomulin</td>\n",
       "      <td>Female</td>\n",
       "      <td>9</td>\n",
       "      <td>22</td>\n",
       "    </tr>\n",
       "    <tr>\n",
       "      <th>3</th>\n",
       "      <td>b128</td>\n",
       "      <td>15</td>\n",
       "      <td>43.784893</td>\n",
       "      <td>0</td>\n",
       "      <td>Capomulin</td>\n",
       "      <td>Female</td>\n",
       "      <td>9</td>\n",
       "      <td>22</td>\n",
       "    </tr>\n",
       "    <tr>\n",
       "      <th>4</th>\n",
       "      <td>b128</td>\n",
       "      <td>20</td>\n",
       "      <td>42.731552</td>\n",
       "      <td>0</td>\n",
       "      <td>Capomulin</td>\n",
       "      <td>Female</td>\n",
       "      <td>9</td>\n",
       "      <td>22</td>\n",
       "    </tr>\n",
       "    <tr>\n",
       "      <th>...</th>\n",
       "      <td>...</td>\n",
       "      <td>...</td>\n",
       "      <td>...</td>\n",
       "      <td>...</td>\n",
       "      <td>...</td>\n",
       "      <td>...</td>\n",
       "      <td>...</td>\n",
       "      <td>...</td>\n",
       "    </tr>\n",
       "    <tr>\n",
       "      <th>95</th>\n",
       "      <td>x930</td>\n",
       "      <td>25</td>\n",
       "      <td>53.726101</td>\n",
       "      <td>0</td>\n",
       "      <td>Naftisol</td>\n",
       "      <td>Male</td>\n",
       "      <td>13</td>\n",
       "      <td>26</td>\n",
       "    </tr>\n",
       "    <tr>\n",
       "      <th>96</th>\n",
       "      <td>o725</td>\n",
       "      <td>0</td>\n",
       "      <td>45.000000</td>\n",
       "      <td>0</td>\n",
       "      <td>Naftisol</td>\n",
       "      <td>Male</td>\n",
       "      <td>4</td>\n",
       "      <td>26</td>\n",
       "    </tr>\n",
       "    <tr>\n",
       "      <th>97</th>\n",
       "      <td>o725</td>\n",
       "      <td>5</td>\n",
       "      <td>46.889821</td>\n",
       "      <td>0</td>\n",
       "      <td>Naftisol</td>\n",
       "      <td>Male</td>\n",
       "      <td>4</td>\n",
       "      <td>26</td>\n",
       "    </tr>\n",
       "    <tr>\n",
       "      <th>98</th>\n",
       "      <td>o725</td>\n",
       "      <td>10</td>\n",
       "      <td>48.199452</td>\n",
       "      <td>0</td>\n",
       "      <td>Naftisol</td>\n",
       "      <td>Male</td>\n",
       "      <td>4</td>\n",
       "      <td>26</td>\n",
       "    </tr>\n",
       "    <tr>\n",
       "      <th>99</th>\n",
       "      <td>o725</td>\n",
       "      <td>15</td>\n",
       "      <td>50.015079</td>\n",
       "      <td>1</td>\n",
       "      <td>Naftisol</td>\n",
       "      <td>Male</td>\n",
       "      <td>4</td>\n",
       "      <td>26</td>\n",
       "    </tr>\n",
       "  </tbody>\n",
       "</table>\n",
       "<p>100 rows × 8 columns</p>\n",
       "</div>"
      ],
      "text/plain": [
       "   Mouse ID  Timepoint  Tumor Volume (mm3)  Metastatic Sites Drug Regimen  \\\n",
       "0      b128          0           45.000000                 0    Capomulin   \n",
       "1      b128          5           45.651331                 0    Capomulin   \n",
       "2      b128         10           43.270852                 0    Capomulin   \n",
       "3      b128         15           43.784893                 0    Capomulin   \n",
       "4      b128         20           42.731552                 0    Capomulin   \n",
       "..      ...        ...                 ...               ...          ...   \n",
       "95     x930         25           53.726101                 0     Naftisol   \n",
       "96     o725          0           45.000000                 0     Naftisol   \n",
       "97     o725          5           46.889821                 0     Naftisol   \n",
       "98     o725         10           48.199452                 0     Naftisol   \n",
       "99     o725         15           50.015079                 1     Naftisol   \n",
       "\n",
       "       Sex  Age_months  Weight (g)  \n",
       "0   Female           9          22  \n",
       "1   Female           9          22  \n",
       "2   Female           9          22  \n",
       "3   Female           9          22  \n",
       "4   Female           9          22  \n",
       "..     ...         ...         ...  \n",
       "95    Male          13          26  \n",
       "96    Male           4          26  \n",
       "97    Male           4          26  \n",
       "98    Male           4          26  \n",
       "99    Male           4          26  \n",
       "\n",
       "[100 rows x 8 columns]"
      ]
     },
     "execution_count": 98,
     "metadata": {},
     "output_type": "execute_result"
    }
   ],
   "source": [
    "#drop the duplicates\n",
    "mouse_study_clean_df = mouse_study_df.copy()\n",
    "mouse_study_clean_df.head(100)\n",
    "# mouse_study_clean_df = mouse_study_df.drop_duplicates(\"Mouse ID\", keep=\"first\",inplace=False)\n",
    "# mouse_study_clean_df.head()"
   ]
  },
  {
   "cell_type": "code",
   "execution_count": 14,
   "id": "94e714ee",
   "metadata": {},
   "outputs": [
    {
     "data": {
      "text/plain": [
       "Mouse ID              1880\n",
       "Timepoint             1880\n",
       "Tumor Volume (mm3)    1880\n",
       "Metastatic Sites      1880\n",
       "Drug Regimen          1880\n",
       "Sex                   1880\n",
       "Age_months            1880\n",
       "Weight (g)            1880\n",
       "dtype: int64"
      ]
     },
     "execution_count": 14,
     "metadata": {},
     "output_type": "execute_result"
    }
   ],
   "source": [
    "mouse_study_clean_df.count()\n"
   ]
  },
  {
   "cell_type": "markdown",
   "id": "605633f6",
   "metadata": {},
   "source": [
    "### Summary Statistics\n"
   ]
  },
  {
   "cell_type": "code",
   "execution_count": 15,
   "id": "4074c0ee",
   "metadata": {},
   "outputs": [],
   "source": [
    "#mouse_study_df[[\"Tumor Volume (mm3)\"]].describe()"
   ]
  },
  {
   "cell_type": "code",
   "execution_count": 16,
   "id": "5f40a013",
   "metadata": {},
   "outputs": [
    {
     "data": {
      "text/html": [
       "<div>\n",
       "<style scoped>\n",
       "    .dataframe tbody tr th:only-of-type {\n",
       "        vertical-align: middle;\n",
       "    }\n",
       "\n",
       "    .dataframe tbody tr th {\n",
       "        vertical-align: top;\n",
       "    }\n",
       "\n",
       "    .dataframe thead th {\n",
       "        text-align: right;\n",
       "    }\n",
       "</style>\n",
       "<table border=\"1\" class=\"dataframe\">\n",
       "  <thead>\n",
       "    <tr style=\"text-align: right;\">\n",
       "      <th></th>\n",
       "      <th>Mean Tumor Volume(mm3)</th>\n",
       "      <th>Median Tumor Volume(mm3)</th>\n",
       "      <th>Tumor Volume(mm3) Std. Dev.</th>\n",
       "      <th>Tumor Volume(mm3) Std. Err</th>\n",
       "    </tr>\n",
       "    <tr>\n",
       "      <th>Drug Regimen</th>\n",
       "      <th></th>\n",
       "      <th></th>\n",
       "      <th></th>\n",
       "      <th></th>\n",
       "    </tr>\n",
       "  </thead>\n",
       "  <tbody>\n",
       "    <tr>\n",
       "      <th>Capomulin</th>\n",
       "      <td>40.675741</td>\n",
       "      <td>41.557809</td>\n",
       "      <td>4.994774</td>\n",
       "      <td>0.329346</td>\n",
       "    </tr>\n",
       "    <tr>\n",
       "      <th>Ceftamin</th>\n",
       "      <td>52.591172</td>\n",
       "      <td>51.776157</td>\n",
       "      <td>6.268188</td>\n",
       "      <td>0.469821</td>\n",
       "    </tr>\n",
       "    <tr>\n",
       "      <th>Infubinol</th>\n",
       "      <td>52.884795</td>\n",
       "      <td>51.820584</td>\n",
       "      <td>6.567243</td>\n",
       "      <td>0.492236</td>\n",
       "    </tr>\n",
       "    <tr>\n",
       "      <th>Ketapril</th>\n",
       "      <td>55.235638</td>\n",
       "      <td>53.698743</td>\n",
       "      <td>8.279709</td>\n",
       "      <td>0.603860</td>\n",
       "    </tr>\n",
       "    <tr>\n",
       "      <th>Naftisol</th>\n",
       "      <td>54.331565</td>\n",
       "      <td>52.509285</td>\n",
       "      <td>8.134708</td>\n",
       "      <td>0.596466</td>\n",
       "    </tr>\n",
       "    <tr>\n",
       "      <th>Placebo</th>\n",
       "      <td>54.033581</td>\n",
       "      <td>52.288934</td>\n",
       "      <td>7.821003</td>\n",
       "      <td>0.581331</td>\n",
       "    </tr>\n",
       "    <tr>\n",
       "      <th>Propriva</th>\n",
       "      <td>52.320930</td>\n",
       "      <td>50.446266</td>\n",
       "      <td>6.622085</td>\n",
       "      <td>0.544332</td>\n",
       "    </tr>\n",
       "    <tr>\n",
       "      <th>Ramicane</th>\n",
       "      <td>40.216745</td>\n",
       "      <td>40.673236</td>\n",
       "      <td>4.846308</td>\n",
       "      <td>0.320955</td>\n",
       "    </tr>\n",
       "    <tr>\n",
       "      <th>Stelasyn</th>\n",
       "      <td>54.233149</td>\n",
       "      <td>52.431737</td>\n",
       "      <td>7.710419</td>\n",
       "      <td>0.573111</td>\n",
       "    </tr>\n",
       "    <tr>\n",
       "      <th>Zoniferol</th>\n",
       "      <td>53.236507</td>\n",
       "      <td>51.818479</td>\n",
       "      <td>6.966589</td>\n",
       "      <td>0.516398</td>\n",
       "    </tr>\n",
       "  </tbody>\n",
       "</table>\n",
       "</div>"
      ],
      "text/plain": [
       "              Mean Tumor Volume(mm3)  Median Tumor Volume(mm3)  \\\n",
       "Drug Regimen                                                     \n",
       "Capomulin                  40.675741                 41.557809   \n",
       "Ceftamin                   52.591172                 51.776157   \n",
       "Infubinol                  52.884795                 51.820584   \n",
       "Ketapril                   55.235638                 53.698743   \n",
       "Naftisol                   54.331565                 52.509285   \n",
       "Placebo                    54.033581                 52.288934   \n",
       "Propriva                   52.320930                 50.446266   \n",
       "Ramicane                   40.216745                 40.673236   \n",
       "Stelasyn                   54.233149                 52.431737   \n",
       "Zoniferol                  53.236507                 51.818479   \n",
       "\n",
       "              Tumor Volume(mm3) Std. Dev.  Tumor Volume(mm3) Std. Err  \n",
       "Drug Regimen                                                           \n",
       "Capomulin                        4.994774                    0.329346  \n",
       "Ceftamin                         6.268188                    0.469821  \n",
       "Infubinol                        6.567243                    0.492236  \n",
       "Ketapril                         8.279709                    0.603860  \n",
       "Naftisol                         8.134708                    0.596466  \n",
       "Placebo                          7.821003                    0.581331  \n",
       "Propriva                         6.622085                    0.544332  \n",
       "Ramicane                         4.846308                    0.320955  \n",
       "Stelasyn                         7.710419                    0.573111  \n",
       "Zoniferol                        6.966589                    0.516398  "
      ]
     },
     "execution_count": 16,
     "metadata": {},
     "output_type": "execute_result"
    }
   ],
   "source": [
    "#Generate a summary statistics table of mean, median, variance, standard deviation, and SEM of the tumor volume for each regimen\n",
    "mouse_study_stats_df = pd.DataFrame()\n",
    "mouse_study_stats_df.sort_index(axis=1,ascending=True)\n",
    "\n",
    "#Use groupby and summary statistical methods to calculate the following properties of each drug regimen:\n",
    "#drug_regimen = mouse_study_df2.groupby(['Drug Regimen'])\n",
    "mean_tumor_regimen = mouse_study_df.groupby('Drug Regimen')['Tumor Volume (mm3)'].mean()\n",
    "median_tumor_volume = mouse_study_df.groupby('Drug Regimen')['Tumor Volume (mm3)'].median()\n",
    "tumor_volume__stddev = mouse_study_df.groupby('Drug Regimen')['Tumor Volume (mm3)'].std()\n",
    "tumor_volume_stderr = mouse_study_df.groupby(['Drug Regimen'])['Tumor Volume (mm3)'].sem()\n",
    "\n",
    "#print(drug_regimen)\n",
    "#mouse_study_stats_df['Drug Regimen'] = [drug_regimen]\n",
    "mouse_study_stats_df['Mean Tumor Volume(mm3)'] = mean_tumor_regimen\n",
    "mouse_study_stats_df['Median Tumor Volume(mm3)'] = median_tumor_volume\n",
    "mouse_study_stats_df['Tumor Volume(mm3) Std. Dev.'] = tumor_volume__stddev\n",
    "mouse_study_stats_df['Tumor Volume(mm3) Std. Err'] = tumor_volume_stderr\n",
    "\n",
    "#Assemble the resulting series into a single summary DataFrame.\n",
    "\n",
    "mouse_study_stats_df.head(20)\n",
    "#mean_tumor_regimen"
   ]
  },
  {
   "cell_type": "code",
   "execution_count": 17,
   "id": "44e1501a",
   "metadata": {},
   "outputs": [
    {
     "data": {
      "text/html": [
       "<div>\n",
       "<style scoped>\n",
       "    .dataframe tbody tr th:only-of-type {\n",
       "        vertical-align: middle;\n",
       "    }\n",
       "\n",
       "    .dataframe tbody tr th {\n",
       "        vertical-align: top;\n",
       "    }\n",
       "\n",
       "    .dataframe thead tr th {\n",
       "        text-align: left;\n",
       "    }\n",
       "\n",
       "    .dataframe thead tr:last-of-type th {\n",
       "        text-align: right;\n",
       "    }\n",
       "</style>\n",
       "<table border=\"1\" class=\"dataframe\">\n",
       "  <thead>\n",
       "    <tr>\n",
       "      <th></th>\n",
       "      <th colspan=\"4\" halign=\"left\">Tumor Volume (mm3)</th>\n",
       "    </tr>\n",
       "    <tr>\n",
       "      <th></th>\n",
       "      <th>mean</th>\n",
       "      <th>median</th>\n",
       "      <th>std</th>\n",
       "      <th>sem</th>\n",
       "    </tr>\n",
       "    <tr>\n",
       "      <th>Drug Regimen</th>\n",
       "      <th></th>\n",
       "      <th></th>\n",
       "      <th></th>\n",
       "      <th></th>\n",
       "    </tr>\n",
       "  </thead>\n",
       "  <tbody>\n",
       "    <tr>\n",
       "      <th>Capomulin</th>\n",
       "      <td>40.675741</td>\n",
       "      <td>41.557809</td>\n",
       "      <td>4.994774</td>\n",
       "      <td>0.329346</td>\n",
       "    </tr>\n",
       "    <tr>\n",
       "      <th>Ceftamin</th>\n",
       "      <td>52.591172</td>\n",
       "      <td>51.776157</td>\n",
       "      <td>6.268188</td>\n",
       "      <td>0.469821</td>\n",
       "    </tr>\n",
       "    <tr>\n",
       "      <th>Infubinol</th>\n",
       "      <td>52.884795</td>\n",
       "      <td>51.820584</td>\n",
       "      <td>6.567243</td>\n",
       "      <td>0.492236</td>\n",
       "    </tr>\n",
       "    <tr>\n",
       "      <th>Ketapril</th>\n",
       "      <td>55.235638</td>\n",
       "      <td>53.698743</td>\n",
       "      <td>8.279709</td>\n",
       "      <td>0.603860</td>\n",
       "    </tr>\n",
       "    <tr>\n",
       "      <th>Naftisol</th>\n",
       "      <td>54.331565</td>\n",
       "      <td>52.509285</td>\n",
       "      <td>8.134708</td>\n",
       "      <td>0.596466</td>\n",
       "    </tr>\n",
       "  </tbody>\n",
       "</table>\n",
       "</div>"
      ],
      "text/plain": [
       "             Tumor Volume (mm3)                               \n",
       "                           mean     median       std       sem\n",
       "Drug Regimen                                                  \n",
       "Capomulin             40.675741  41.557809  4.994774  0.329346\n",
       "Ceftamin              52.591172  51.776157  6.268188  0.469821\n",
       "Infubinol             52.884795  51.820584  6.567243  0.492236\n",
       "Ketapril              55.235638  53.698743  8.279709  0.603860\n",
       "Naftisol              54.331565  52.509285  8.134708  0.596466"
      ]
     },
     "execution_count": 17,
     "metadata": {},
     "output_type": "execute_result"
    }
   ],
   "source": [
    "mouse_study_grouped_single = mouse_study_df.groupby('Drug Regimen').agg({'Tumor Volume (mm3)': ['mean', 'median', 'std','sem']})\n",
    "mouse_study_grouped_single.head()\n"
   ]
  },
  {
   "cell_type": "markdown",
   "id": "17b47683",
   "metadata": {},
   "source": [
    "### Bar and Pie Charts\n"
   ]
  },
  {
   "cell_type": "code",
   "execution_count": 18,
   "id": "6ec02c55",
   "metadata": {},
   "outputs": [
    {
     "data": {
      "text/plain": [
       "Text(0, 0.5, 'Number of Mice Tested')"
      ]
     },
     "execution_count": 18,
     "metadata": {},
     "output_type": "execute_result"
    },
    {
     "data": {
      "image/png": "[encoded data removed]",
      "text/plain": [
       "<Figure size 800x700 with 1 Axes>"
      ]
     },
     "metadata": {},
     "output_type": "display_data"
    }
   ],
   "source": [
    "#Create the first bar chart with the Pandas DataFrame.plot() method\n",
    "# Generate a bar plot showing the total number of timepoints for all mice tested for each drug regimen using Pandas.\n",
    "timepoints = mouse_study_df.groupby(['Drug Regimen'])['Timepoint'].count()\n",
    "\n",
    "timepoint_chart = timepoints.plot(kind='bar',figsize=(8,7))\n",
    "timepoint_chart.set_xlabel(\"Drug Regimen\")\n",
    "timepoint_chart.set_ylabel('Number of Mice Tested')\n"
   ]
  },
  {
   "cell_type": "code",
   "execution_count": 19,
   "id": "4803a0eb",
   "metadata": {},
   "outputs": [
    {
     "data": {
      "image/png": "[encoded data removed]",
      "text/plain": [
       "<Figure size 640x480 with 1 Axes>"
      ]
     },
     "metadata": {},
     "output_type": "display_data"
    }
   ],
   "source": [
    "#Create the second bar chart with Matplotlib's pyplot methods.\n",
    "#plt.bar(timepoints)\n",
    "#print(type(timepoints))\n",
    "x = timepoints.index.get_level_values(0)\n",
    "y = np.array(timepoints)\n",
    "#print(y)\n",
    "\n",
    "plt.bar(x,y,align='center')\n",
    "plt.xticks(rotation=90)\n",
    "plt.xlabel('Drug Regimen')\n",
    "plt.ylabel('Number of Mice Tested')\n",
    "plt.show()\n"
   ]
  },
  {
   "cell_type": "markdown",
   "id": "50955e6a",
   "metadata": {},
   "source": [
    "# Pie Chart- "
   ]
  },
  {
   "cell_type": "code",
   "execution_count": 20,
   "id": "9d05f6f4",
   "metadata": {},
   "outputs": [
    {
     "data": {
      "image/png": "[encoded data removed]",
      "text/plain": [
       "<Figure size 640x480 with 1 Axes>"
      ]
     },
     "metadata": {},
     "output_type": "display_data"
    }
   ],
   "source": [
    "# Generate a pie plot showing the distribution of female versus male mice using Pandas\n",
    "# Creating plot Using Pandas\n",
    "\n",
    "#labels = [\"Male\", \"Female\"]\n",
    "gender_data = (mouse_study_df[\"Sex\"].value_counts()/len(mouse_study_df)*100)\n",
    "gender_data = gender_data.round(0)\n",
    "\n",
    "# creating dataframe\n",
    "gender = gender_data.plot(kind='pie',autopct='%.1f%%',labels=[\"Male\", \"Female\"],title='Gender')\n",
    "plt.show()"
   ]
  },
  {
   "cell_type": "code",
   "execution_count": 21,
   "id": "8b72d3eb",
   "metadata": {},
   "outputs": [
    {
     "data": {
      "image/png": "[encoded data removed]",
      "text/plain": [
       "<Figure size 640x480 with 1 Axes>"
      ]
     },
     "metadata": {},
     "output_type": "display_data"
    }
   ],
   "source": [
    "#Pie Chart using Matplotlib\n",
    "\n",
    "# Creating dataset\n",
    "gender = ['Male', 'Female']\n",
    "#x= gender_data.index.get_level_values(0)\n",
    " \n",
    "y = np.array(gender_data)\n",
    "\n",
    "# Creating plot\n",
    "plt.pie(y, labels=gender, autopct='%1.1f%%')\n",
    "plt.title('Gender',pad=32,loc='left')\n",
    "plt.ylabel('Sex')\n",
    "plt.axis('equal')\n",
    "plt.show()"
   ]
  },
  {
   "cell_type": "markdown",
   "id": "b261567f",
   "metadata": {},
   "source": [
    "### Quartiles, Outliers, and Boxplots"
   ]
  },
  {
   "cell_type": "code",
   "execution_count": 22,
   "id": "f355c284",
   "metadata": {},
   "outputs": [
    {
     "data": {
      "text/html": [
       "<div>\n",
       "<style scoped>\n",
       "    .dataframe tbody tr th:only-of-type {\n",
       "        vertical-align: middle;\n",
       "    }\n",
       "\n",
       "    .dataframe tbody tr th {\n",
       "        vertical-align: top;\n",
       "    }\n",
       "\n",
       "    .dataframe thead th {\n",
       "        text-align: right;\n",
       "    }\n",
       "</style>\n",
       "<table border=\"1\" class=\"dataframe\">\n",
       "  <thead>\n",
       "    <tr style=\"text-align: right;\">\n",
       "      <th></th>\n",
       "      <th>Mouse ID</th>\n",
       "      <th>Timepoint</th>\n",
       "      <th>Tumor Volume (mm3)</th>\n",
       "      <th>Metastatic Sites</th>\n",
       "      <th>Drug Regimen</th>\n",
       "      <th>Sex</th>\n",
       "      <th>Age_months</th>\n",
       "      <th>Weight (g)</th>\n",
       "    </tr>\n",
       "  </thead>\n",
       "  <tbody>\n",
       "    <tr>\n",
       "      <th>0</th>\n",
       "      <td>a203</td>\n",
       "      <td>45</td>\n",
       "      <td>67.973419</td>\n",
       "      <td>2</td>\n",
       "      <td>Infubinol</td>\n",
       "      <td>Female</td>\n",
       "      <td>20</td>\n",
       "      <td>23</td>\n",
       "    </tr>\n",
       "    <tr>\n",
       "      <th>1</th>\n",
       "      <td>a251</td>\n",
       "      <td>45</td>\n",
       "      <td>65.525743</td>\n",
       "      <td>1</td>\n",
       "      <td>Infubinol</td>\n",
       "      <td>Female</td>\n",
       "      <td>21</td>\n",
       "      <td>25</td>\n",
       "    </tr>\n",
       "    <tr>\n",
       "      <th>2</th>\n",
       "      <td>a275</td>\n",
       "      <td>45</td>\n",
       "      <td>62.999356</td>\n",
       "      <td>3</td>\n",
       "      <td>Ceftamin</td>\n",
       "      <td>Female</td>\n",
       "      <td>20</td>\n",
       "      <td>28</td>\n",
       "    </tr>\n",
       "    <tr>\n",
       "      <th>3</th>\n",
       "      <td>a411</td>\n",
       "      <td>45</td>\n",
       "      <td>38.407618</td>\n",
       "      <td>1</td>\n",
       "      <td>Ramicane</td>\n",
       "      <td>Male</td>\n",
       "      <td>3</td>\n",
       "      <td>22</td>\n",
       "    </tr>\n",
       "    <tr>\n",
       "      <th>4</th>\n",
       "      <td>a444</td>\n",
       "      <td>45</td>\n",
       "      <td>43.047543</td>\n",
       "      <td>0</td>\n",
       "      <td>Ramicane</td>\n",
       "      <td>Female</td>\n",
       "      <td>10</td>\n",
       "      <td>25</td>\n",
       "    </tr>\n",
       "    <tr>\n",
       "      <th>...</th>\n",
       "      <td>...</td>\n",
       "      <td>...</td>\n",
       "      <td>...</td>\n",
       "      <td>...</td>\n",
       "      <td>...</td>\n",
       "      <td>...</td>\n",
       "      <td>...</td>\n",
       "      <td>...</td>\n",
       "    </tr>\n",
       "    <tr>\n",
       "      <th>95</th>\n",
       "      <td>y769</td>\n",
       "      <td>45</td>\n",
       "      <td>68.594745</td>\n",
       "      <td>4</td>\n",
       "      <td>Ceftamin</td>\n",
       "      <td>Female</td>\n",
       "      <td>6</td>\n",
       "      <td>27</td>\n",
       "    </tr>\n",
       "    <tr>\n",
       "      <th>96</th>\n",
       "      <td>y793</td>\n",
       "      <td>45</td>\n",
       "      <td>31.896238</td>\n",
       "      <td>2</td>\n",
       "      <td>Capomulin</td>\n",
       "      <td>Male</td>\n",
       "      <td>17</td>\n",
       "      <td>17</td>\n",
       "    </tr>\n",
       "    <tr>\n",
       "      <th>97</th>\n",
       "      <td>y865</td>\n",
       "      <td>45</td>\n",
       "      <td>64.729837</td>\n",
       "      <td>3</td>\n",
       "      <td>Ceftamin</td>\n",
       "      <td>Male</td>\n",
       "      <td>23</td>\n",
       "      <td>26</td>\n",
       "    </tr>\n",
       "    <tr>\n",
       "      <th>98</th>\n",
       "      <td>z578</td>\n",
       "      <td>45</td>\n",
       "      <td>30.638696</td>\n",
       "      <td>0</td>\n",
       "      <td>Ramicane</td>\n",
       "      <td>Male</td>\n",
       "      <td>11</td>\n",
       "      <td>16</td>\n",
       "    </tr>\n",
       "    <tr>\n",
       "      <th>99</th>\n",
       "      <td>z581</td>\n",
       "      <td>45</td>\n",
       "      <td>62.754451</td>\n",
       "      <td>3</td>\n",
       "      <td>Infubinol</td>\n",
       "      <td>Female</td>\n",
       "      <td>24</td>\n",
       "      <td>25</td>\n",
       "    </tr>\n",
       "  </tbody>\n",
       "</table>\n",
       "<p>100 rows × 8 columns</p>\n",
       "</div>"
      ],
      "text/plain": [
       "   Mouse ID  Timepoint  Tumor Volume (mm3)  Metastatic Sites Drug Regimen  \\\n",
       "0      a203         45           67.973419                 2    Infubinol   \n",
       "1      a251         45           65.525743                 1    Infubinol   \n",
       "2      a275         45           62.999356                 3     Ceftamin   \n",
       "3      a411         45           38.407618                 1     Ramicane   \n",
       "4      a444         45           43.047543                 0     Ramicane   \n",
       "..      ...        ...                 ...               ...          ...   \n",
       "95     y769         45           68.594745                 4     Ceftamin   \n",
       "96     y793         45           31.896238                 2    Capomulin   \n",
       "97     y865         45           64.729837                 3     Ceftamin   \n",
       "98     z578         45           30.638696                 0     Ramicane   \n",
       "99     z581         45           62.754451                 3    Infubinol   \n",
       "\n",
       "       Sex  Age_months  Weight (g)  \n",
       "0   Female          20          23  \n",
       "1   Female          21          25  \n",
       "2   Female          20          28  \n",
       "3     Male           3          22  \n",
       "4   Female          10          25  \n",
       "..     ...         ...         ...  \n",
       "95  Female           6          27  \n",
       "96    Male          17          17  \n",
       "97    Male          23          26  \n",
       "98    Male          11          16  \n",
       "99  Female          24          25  \n",
       "\n",
       "[100 rows x 8 columns]"
      ]
     },
     "execution_count": 22,
     "metadata": {},
     "output_type": "execute_result"
    }
   ],
   "source": [
    "#Calculate the final tumor volume of each mouse across four of the Drug Regimens\n",
    "\n",
    "# Put treatments into a list for for loop (and later for plot labels)\n",
    "drugs = [\"Capomulin\", \"Ramicane\", \"Infubinol\", \"Ceftamin\"]\n",
    "\n",
    "#drug_tumorvol_df= pd.DataFrame()\n",
    "df = mouse_study_df[mouse_study_df[\"Drug Regimen\"].isin(drugs)]\n",
    "df = df.drop(columns = ['Metastatic Sites','Sex','Age_months'])\n",
    "df = df.set_index('Drug Regimen')\n",
    "\n",
    "# # Start by getting the last (greatest) timepoint for each mouse.\n",
    "max_timepoint = df['Timepoint']\n",
    "#print(max_timepoint.max())\n",
    "\n",
    "max_timepoint_df = df.groupby('Mouse ID')[['Timepoint']].max()\n",
    "max_timepoint_df\n",
    "\n",
    "# Merge this group df with the original DataFrame to get the tumor volume at the last timepoint\n",
    "#capture only the records which have the max timepoint for each Mouse ID\n",
    "merge_df = pd.merge(mouse_study_df, max_timepoint_df, on=['Mouse ID','Timepoint'],how='right')\n",
    "merge_df"
   ]
  },
  {
   "cell_type": "code",
   "execution_count": 23,
   "id": "b8eff491",
   "metadata": {},
   "outputs": [
    {
     "data": {
      "text/html": [
       "<div>\n",
       "<style scoped>\n",
       "    .dataframe tbody tr th:only-of-type {\n",
       "        vertical-align: middle;\n",
       "    }\n",
       "\n",
       "    .dataframe tbody tr th {\n",
       "        vertical-align: top;\n",
       "    }\n",
       "\n",
       "    .dataframe thead th {\n",
       "        text-align: right;\n",
       "    }\n",
       "</style>\n",
       "<table border=\"1\" class=\"dataframe\">\n",
       "  <thead>\n",
       "    <tr style=\"text-align: right;\">\n",
       "      <th></th>\n",
       "      <th>Tumor Volume (mm3)</th>\n",
       "    </tr>\n",
       "    <tr>\n",
       "      <th>Drug Regimen</th>\n",
       "      <th></th>\n",
       "    </tr>\n",
       "  </thead>\n",
       "  <tbody>\n",
       "    <tr>\n",
       "      <th>Capomulin</th>\n",
       "      <td>38.846876</td>\n",
       "    </tr>\n",
       "    <tr>\n",
       "      <th>Capomulin</th>\n",
       "      <td>38.125164</td>\n",
       "    </tr>\n",
       "    <tr>\n",
       "      <th>Capomulin</th>\n",
       "      <td>38.753265</td>\n",
       "    </tr>\n",
       "    <tr>\n",
       "      <th>Capomulin</th>\n",
       "      <td>31.023923</td>\n",
       "    </tr>\n",
       "    <tr>\n",
       "      <th>Capomulin</th>\n",
       "      <td>40.159220</td>\n",
       "    </tr>\n",
       "    <tr>\n",
       "      <th>...</th>\n",
       "      <td>...</td>\n",
       "    </tr>\n",
       "    <tr>\n",
       "      <th>Ramicane</th>\n",
       "      <td>31.560470</td>\n",
       "    </tr>\n",
       "    <tr>\n",
       "      <th>Ramicane</th>\n",
       "      <td>36.134852</td>\n",
       "    </tr>\n",
       "    <tr>\n",
       "      <th>Ramicane</th>\n",
       "      <td>22.050126</td>\n",
       "    </tr>\n",
       "    <tr>\n",
       "      <th>Ramicane</th>\n",
       "      <td>30.564625</td>\n",
       "    </tr>\n",
       "    <tr>\n",
       "      <th>Ramicane</th>\n",
       "      <td>29.128472</td>\n",
       "    </tr>\n",
       "  </tbody>\n",
       "</table>\n",
       "<p>100 rows × 1 columns</p>\n",
       "</div>"
      ],
      "text/plain": [
       "              Tumor Volume (mm3)\n",
       "Drug Regimen                    \n",
       "Capomulin              38.846876\n",
       "Capomulin              38.125164\n",
       "Capomulin              38.753265\n",
       "Capomulin              31.023923\n",
       "Capomulin              40.159220\n",
       "...                          ...\n",
       "Ramicane               31.560470\n",
       "Ramicane               36.134852\n",
       "Ramicane               22.050126\n",
       "Ramicane               30.564625\n",
       "Ramicane               29.128472\n",
       "\n",
       "[100 rows x 1 columns]"
      ]
     },
     "execution_count": 23,
     "metadata": {},
     "output_type": "execute_result"
    }
   ],
   "source": [
    "df2 = merge_df[['Drug Regimen','Tumor Volume (mm3)']].copy()\n",
    "df2 = df2.sort_values(['Drug Regimen'],ascending = [True])\n",
    "df2 = df2.set_index(\"Drug Regimen\")\n",
    "df2"
   ]
  },
  {
   "cell_type": "markdown",
   "id": "b384219c",
   "metadata": {},
   "source": []
  },
  {
   "cell_type": "code",
   "execution_count": 24,
   "id": "705d7bdb",
   "metadata": {},
   "outputs": [],
   "source": [
    "#Practice\n",
    "# Calculate the IQR and quantitatively determine if there are any potential outliers. \n",
    "#calculate interquartile range from a list\n",
    "#q3_l, q1_l = np.percentile(tumor_volume_data, [75 ,25])\n",
    "#iqr_l = q3_l - q1_l\n",
    "#print(iqr_l)"
   ]
  },
  {
   "cell_type": "code",
   "execution_count": 25,
   "id": "2277726f",
   "metadata": {},
   "outputs": [],
   "source": [
    "#Practice\n",
    "#calculate interquartile range of values in the 'points' column\n",
    "#q75_a, q25_a = np.percentile(df2['Final Tumor Volume'], [75 ,25])\n",
    "#iqr_a = q75_a - q25_a\n",
    "\n",
    "#display interquartile range \n",
    "#iqr_a"
   ]
  },
  {
   "cell_type": "code",
   "execution_count": 129,
   "id": "df0bf0ff",
   "metadata": {},
   "outputs": [
    {
     "name": "stdout",
     "output_type": "stream",
     "text": [
      "Outliers:               Tumor Volume (mm3)\n",
      "Drug Regimen                    \n",
      "Capomulin              38.846876\n",
      "Capomulin              38.125164\n",
      "Capomulin              38.753265\n",
      "Capomulin              31.023923\n",
      "Capomulin              40.159220\n",
      "Capomulin              37.074024\n",
      "Capomulin              30.485985\n",
      "Capomulin              34.455298\n",
      "Capomulin              40.728578\n",
      "Capomulin              40.658124\n",
      "Capomulin              39.952347\n",
      "Capomulin              47.685963\n",
      "Capomulin              36.041047\n",
      "Capomulin              37.311846\n",
      "Capomulin              32.377357\n",
      "Capomulin              38.939633\n",
      "Capomulin              33.329098\n",
      "Capomulin              31.896238\n",
      "Capomulin              38.982878\n",
      "Capomulin              28.484033\n",
      "Capomulin              41.581521\n",
      "Capomulin              41.483008\n",
      "Capomulin              28.430964\n",
      "Capomulin              46.539206 Upper bound: 25.175049716399997, Lower Bound: 22.7331139212\n",
      "Outliers:               Tumor Volume (mm3)\n",
      "Drug Regimen                    \n",
      "Ramicane               30.276232\n",
      "Ramicane               38.407618\n",
      "Ramicane               43.047543\n",
      "Ramicane               44.183451\n",
      "Ramicane               38.810366\n",
      "Ramicane               31.095335\n",
      "Ramicane               32.978522\n",
      "Ramicane               45.220869\n",
      "Ramicane               36.561652\n",
      "Ramicane               43.166373\n",
      "Ramicane               38.342008\n",
      "Ramicane               33.397653\n",
      "Ramicane               37.311236\n",
      "Ramicane               37.225650\n",
      "Ramicane               40.659006\n",
      "Ramicane               43.419381\n",
      "Ramicane               30.638696\n",
      "Ramicane               33.562402\n",
      "Ramicane               40.667713\n",
      "Ramicane               36.374510\n",
      "Ramicane               31.560470\n",
      "Ramicane               36.134852\n",
      "Ramicane               30.564625\n",
      "Ramicane               29.128472 Upper bound: 24.598330664400002, Lower Bound: 21.200724805200004\n",
      "Outliers:               Tumor Volume (mm3)\n",
      "Drug Regimen                    \n",
      "Infubinol              50.005138\n",
      "Infubinol              55.650681\n",
      "Infubinol              51.542431\n",
      "Infubinol              54.048608\n",
      "Infubinol              67.685569\n",
      "Infubinol              46.250112\n",
      "Infubinol              54.656549\n",
      "Infubinol              58.268442\n",
      "Infubinol              67.973419\n",
      "Infubinol              55.629428\n",
      "Infubinol              65.525743\n",
      "Infubinol              57.031862\n",
      "Infubinol              66.083066\n",
      "Infubinol              72.226731\n",
      "Infubinol              60.969711\n",
      "Infubinol              62.435404\n",
      "Infubinol              60.918767\n",
      "Infubinol              45.699331\n",
      "Infubinol              67.289621\n",
      "Infubinol              62.754451\n",
      "Infubinol              60.165180\n",
      "Infubinol              62.117279\n",
      "Infubinol              47.010364\n",
      "Infubinol              66.196912 Upper bound: 39.6974204288, Lower Bound: 35.195987590399994\n",
      "Outliers:               Tumor Volume (mm3)\n",
      "Drug Regimen                    \n",
      "Ceftamin               64.192341\n",
      "Ceftamin               61.849023\n",
      "Ceftamin               46.784535\n",
      "Ceftamin               68.923185\n",
      "Ceftamin               64.299830\n",
      "Ceftamin               59.851956\n",
      "Ceftamin               67.748662\n",
      "Ceftamin               57.918381\n",
      "Ceftamin               47.784682\n",
      "Ceftamin               64.729837\n",
      "Ceftamin               62.999356\n",
      "Ceftamin               68.594745\n",
      "Ceftamin               61.386660\n",
      "Ceftamin               64.634949\n",
      "Ceftamin               56.057749\n",
      "Ceftamin               52.925348\n",
      "Ceftamin               55.742829\n",
      "Ceftamin               67.527482\n",
      "Ceftamin               48.722078\n",
      "Ceftamin               59.741901\n",
      "Ceftamin               61.433892 Upper bound: 45.0, Lower Bound: 45.0\n"
     ]
    }
   ],
   "source": [
    "# Create empty list to fill with tumor vol data (for plotting)\n",
    "tumor_volume_data =[]\n",
    "\n",
    "# Calculate the IQR and quantitatively determine if there are any potential outliers. \n",
    "for d in drugs:\n",
    "    # Locate the rows which contain mice on each drug and get the tumor volumes\n",
    "    temp_df = df2.loc[d]\n",
    "    tumor_volume_data.append(temp_df.values)\n",
    "    # Determine outliers using upper and lower bounds\n",
    "    q75, q25 = np.percentile(temp_df['Tumor Volume (mm3)'], [.75 ,.25])\n",
    "    iqr = q75 - q25\n",
    "    #OUTLIERS #UPPERBOUN\n",
    "    ub = q75 + (1.5 * iqr)\n",
    "    #OUTLIERS lowerboud\n",
    "    lb = q25 - (1.5 * iqr)\n",
    "    outliers = temp_df.loc[(temp_df['Tumor Volume (mm3)']<lb) | (temp_df['Tumor Volume (mm3)']>ub)]\n",
    "    print(f'Outliers: {outliers} Upper bound: {ub}, Lower Bound: {lb}')\n",
    "    \n",
    "#Determine outliers by using the upper and lower bounds, and then print the results.\n",
    "#https://medium.datadriveninvestor.com/finding-outliers-in-dataset-using-python-efc3fce6ce32\n",
    "\n",
    "#print(df2['Drug Regimen']== 'Infubinol')\n",
    "#df2.describe()\n",
    "#Infubinol's potential outliers: 31    36.321346"
   ]
  },
  {
   "cell_type": "code",
   "execution_count": 36,
   "id": "c09e3622",
   "metadata": {},
   "outputs": [],
   "source": [
    "#Create a list that holds the treatment names as well as a second, empty list to hold the tumor volume data.\n",
    "\n",
    "treatment_names = drugs\n",
    "#print(tumor_volume_data)\n",
    "#print(drugs)\n",
    "\n"
   ]
  },
  {
   "cell_type": "markdown",
   "id": "32979d33",
   "metadata": {},
   "source": [
    "Use Matplotlib, generate a box plot that shows the distribution of the final tumor volume for all the mice in each treatment group. Highlight any potential outliers in the plot by changing their color and style."
   ]
  },
  {
   "cell_type": "code",
   "execution_count": 47,
   "id": "f20ee20e",
   "metadata": {},
   "outputs": [
    {
     "data": {
      "text/plain": [
       "[Text(0.5, 0, 'Drug Regimen'),\n",
       " Text(0, 0.5, 'Tumor Volume(mms)'),\n",
       " Text(0.5, 1.0, 'Final Tumor Volume of each Mouse ')]"
      ]
     },
     "execution_count": 47,
     "metadata": {},
     "output_type": "execute_result"
    },
    {
     "data": {
      "image/png": "[encoded data removed]",
      "text/plain": [
       "<Figure size 640x480 with 1 Axes>"
      ]
     },
     "metadata": {},
     "output_type": "display_data"
    }
   ],
   "source": [
    "drug_regimen = df2.index.tolist()\n",
    "#print(drug_regimen)\n",
    "all_array = [tumor_volume_data[0],tumor_volume_data[1],tumor_volume_data[2],tumor_volume_data[3]]\n",
    "\n",
    "\n",
    "ax = sns.boxplot(data=all_array)\n",
    "#ax = sns.boxplot(df2)\n",
    "#used seaborn module instead of matplotlib\n",
    "ax.set(xlabel='Drug Regimen',\n",
    "       ylabel='Tumor Volume(mms)',\n",
    "       title='Final Tumor Volume of each Mouse ')\n"
   ]
  },
  {
   "cell_type": "markdown",
   "id": "c59ad7a8",
   "metadata": {},
   "source": [
    "### Line and Scatter Plots"
   ]
  },
  {
   "cell_type": "code",
   "execution_count": 89,
   "id": "53f555b9",
   "metadata": {},
   "outputs": [
    {
     "data": {
      "text/plain": [
       "Text(0, 0.5, 'Tumor Volume (mm3)')"
      ]
     },
     "execution_count": 89,
     "metadata": {},
     "output_type": "execute_result"
    },
    {
     "data": {
      "image/png": "[encoded data removed]",
      "text/plain": [
       "<Figure size 640x480 with 1 Axes>"
      ]
     },
     "metadata": {},
     "output_type": "display_data"
    }
   ],
   "source": [
    "# Generate a line plot of tumor volume vs. time point for a mouse treated with Capomulin\n",
    "df_timepoint = mouse_study_df[['Mouse ID','Drug Regimen','Tumor Volume (mm3)','Timepoint']].copy()\n",
    "#df_timepoint = df_timepoint.loc[df_timepoint['Drug Regimen'] =='Capomulin']\n",
    "df_timepoint = df_timepoint.loc[df_timepoint['Mouse ID'] =='l509']\n",
    "\n",
    "\n",
    "df_timepoint.plot.line(x='Timepoint', y='Tumor Volume (mm3)')\n",
    "plt.title('Capomulin treatment of mouse I509')\n",
    "plt.ylabel('Tumor Volume (mm3)')"
   ]
  },
  {
   "cell_type": "code",
   "execution_count": 108,
   "id": "c79d8002",
   "metadata": {},
   "outputs": [],
   "source": [
    "all_timepoint = mouse_study_df[['Mouse ID','Drug Regimen','Tumor Volume (mm3)','Timepoint']].copy()\n",
    "#all_timepoint"
   ]
  },
  {
   "cell_type": "code",
   "execution_count": 119,
   "id": "b7dfa7d0",
   "metadata": {},
   "outputs": [
    {
     "data": {
      "text/plain": [
       "Text(0.5, 1.0, 'Capomulin treatment of mouse I509')"
      ]
     },
     "execution_count": 119,
     "metadata": {},
     "output_type": "execute_result"
    },
    {
     "data": {
      "image/png": "[encoded data removed]",
      "text/plain": [
       "<Figure size 640x480 with 1 Axes>"
      ]
     },
     "metadata": {},
     "output_type": "display_data"
    }
   ],
   "source": [
    "all_timepoint = mouse_study_df[['Mouse ID','Drug Regimen','Tumor Volume (mm3)','Timepoint']].copy()\n",
    "all_timepoint = all_timepoint.loc[all_timepoint['Mouse ID'].isin(['l509','x930',\"k403\",\"a251\",\"a262\",\"a366\",\"a401\"])]\n",
    "all_timepoint.head(20)\n",
    "\n",
    "all = sns.scatterplot(data=all_timepoint,x='Timepoint', y='Tumor Volume (mm3)',hue='Mouse ID')\n",
    "#all_timepoint.plot.line(x='Timepoint', y='Tumor Volume (mm3)',legend=True)\n",
    "all.set_title('Treatment of mouse')\n",
    "#plt.ylabel('Tumor Volume (mm3)')"
   ]
  },
  {
   "cell_type": "code",
   "execution_count": 72,
   "id": "a519caa7",
   "metadata": {},
   "outputs": [],
   "source": [
    "#Group by Capomulin not all drugs\n",
    "\n",
    "df3 = merge_df[['Drug Regimen','Tumor Volume (mm3)','Weight (g)']].copy()\n",
    "#df3 = df3.sort_values(['Drug Regimen'],ascending = [True])\n",
    "df4 = df3.loc[df3['Drug Regimen'] =='Capomulin']\n"
   ]
  },
  {
   "cell_type": "code",
   "execution_count": 62,
   "id": "74c4bcf3",
   "metadata": {},
   "outputs": [
    {
     "data": {
      "image/png": "[encoded data removed]",
      "text/plain": [
       "<Figure size 640x480 with 1 Axes>"
      ]
     },
     "metadata": {},
     "output_type": "display_data"
    }
   ],
   "source": [
    "# Generate a scatter plot of average tumor volume vs. mouse weight for the Capomulin regimen\n",
    "\n",
    "\n",
    "weight_ax1 = sns.scatterplot(data=df4, x='Weight (g)',y='Tumor Volume (mm3)')\n"
   ]
  },
  {
   "cell_type": "code",
   "execution_count": 65,
   "id": "4f7292cd",
   "metadata": {},
   "outputs": [
    {
     "data": {
      "image/png": "[encoded data removed]",
      "text/plain": [
       "<Figure size 640x480 with 1 Axes>"
      ]
     },
     "metadata": {},
     "output_type": "display_data"
    }
   ],
   "source": [
    "all_weight_ax1 = sns.scatterplot(data=df3, x='Weight (g)',y='Tumor Volume (mm3)',hue='Drug Regimen')"
   ]
  },
  {
   "cell_type": "code",
   "execution_count": null,
   "id": "b2614eed",
   "metadata": {},
   "outputs": [],
   "source": []
  }
 ],
 "metadata": {
  "kernelspec": {
   "display_name": "Python 3 (ipykernel)",
   "language": "python",
   "name": "python3"
  },
  "language_info": {
   "codemirror_mode": {
    "name": "ipython",
    "version": 3
   },
   "file_extension": ".py",
   "mimetype": "text/x-python",
   "name": "python",
   "nbconvert_exporter": "python",
   "pygments_lexer": "ipython3",
   "version": "3.7.13"
  }
 },
 "nbformat": 4,
 "nbformat_minor": 5
}
