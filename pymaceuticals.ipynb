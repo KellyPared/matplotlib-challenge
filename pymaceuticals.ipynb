{
 "cells": [
  {
   "cell_type": "markdown",
   "id": "530bd193",
   "metadata": {},
   "source": [
    "# Pymaceuticals Inc.\n",
    "---\n",
    "\n",
    "### Analysis\n",
    "\n",
    "- Write at least three observations or inferences that can be made from the data. Include these observations at the top of your notebook."
   ]
  },
  {
   "cell_type": "code",
   "execution_count": 1,
   "id": "519e2d36",
   "metadata": {},
   "outputs": [
    {
     "name": "stdout",
     "output_type": "stream",
     "text": [
      "Requirement already satisfied: matplotlib in /Users/kellypared/opt/anaconda3/lib/python3.9/site-packages (3.5.1)\n",
      "Requirement already satisfied: numpy>=1.17 in /Users/kellypared/opt/anaconda3/lib/python3.9/site-packages (from matplotlib) (1.21.5)\n",
      "Requirement already satisfied: python-dateutil>=2.7 in /Users/kellypared/opt/anaconda3/lib/python3.9/site-packages (from matplotlib) (2.8.2)\n",
      "Requirement already satisfied: fonttools>=4.22.0 in /Users/kellypared/opt/anaconda3/lib/python3.9/site-packages (from matplotlib) (4.25.0)\n",
      "Requirement already satisfied: kiwisolver>=1.0.1 in /Users/kellypared/opt/anaconda3/lib/python3.9/site-packages (from matplotlib) (1.3.2)\n",
      "Requirement already satisfied: pyparsing>=2.2.1 in /Users/kellypared/opt/anaconda3/lib/python3.9/site-packages (from matplotlib) (3.0.4)\n",
      "Requirement already satisfied: cycler>=0.10 in /Users/kellypared/opt/anaconda3/lib/python3.9/site-packages (from matplotlib) (0.11.0)\n",
      "Requirement already satisfied: pillow>=6.2.0 in /Users/kellypared/opt/anaconda3/lib/python3.9/site-packages (from matplotlib) (9.0.1)\n",
      "Requirement already satisfied: packaging>=20.0 in /Users/kellypared/opt/anaconda3/lib/python3.9/site-packages (from matplotlib) (21.3)\n",
      "Requirement already satisfied: six>=1.5 in /Users/kellypared/opt/anaconda3/lib/python3.9/site-packages (from python-dateutil>=2.7->matplotlib) (1.16.0)\n"
     ]
    }
   ],
   "source": [
    "!pip install matplotlib\n"
   ]
  },
  {
   "cell_type": "code",
   "execution_count": 2,
   "id": "82cf337c",
   "metadata": {},
   "outputs": [],
   "source": [
    "# Dependencies and Setup\n",
    "import matplotlib.pyplot as plt\n",
    "import pandas as pd\n",
    "import scipy.stats as st\n",
    "import numpy as np"
   ]
  },
  {
   "cell_type": "code",
   "execution_count": 3,
   "id": "402c9ef2",
   "metadata": {},
   "outputs": [
    {
     "data": {
      "text/html": [
       "<div>\n",
       "<style scoped>\n",
       "    .dataframe tbody tr th:only-of-type {\n",
       "        vertical-align: middle;\n",
       "    }\n",
       "\n",
       "    .dataframe tbody tr th {\n",
       "        vertical-align: top;\n",
       "    }\n",
       "\n",
       "    .dataframe thead th {\n",
       "        text-align: right;\n",
       "    }\n",
       "</style>\n",
       "<table border=\"1\" class=\"dataframe\">\n",
       "  <thead>\n",
       "    <tr style=\"text-align: right;\">\n",
       "      <th></th>\n",
       "      <th>Mouse ID</th>\n",
       "      <th>Timepoint</th>\n",
       "      <th>Tumor Volume (mm3)</th>\n",
       "      <th>Metastatic Sites</th>\n",
       "    </tr>\n",
       "  </thead>\n",
       "  <tbody>\n",
       "    <tr>\n",
       "      <th>0</th>\n",
       "      <td>b128</td>\n",
       "      <td>0</td>\n",
       "      <td>45.000000</td>\n",
       "      <td>0</td>\n",
       "    </tr>\n",
       "    <tr>\n",
       "      <th>1</th>\n",
       "      <td>f932</td>\n",
       "      <td>0</td>\n",
       "      <td>45.000000</td>\n",
       "      <td>0</td>\n",
       "    </tr>\n",
       "    <tr>\n",
       "      <th>2</th>\n",
       "      <td>g107</td>\n",
       "      <td>0</td>\n",
       "      <td>45.000000</td>\n",
       "      <td>0</td>\n",
       "    </tr>\n",
       "    <tr>\n",
       "      <th>3</th>\n",
       "      <td>a457</td>\n",
       "      <td>0</td>\n",
       "      <td>45.000000</td>\n",
       "      <td>0</td>\n",
       "    </tr>\n",
       "    <tr>\n",
       "      <th>4</th>\n",
       "      <td>c819</td>\n",
       "      <td>0</td>\n",
       "      <td>45.000000</td>\n",
       "      <td>0</td>\n",
       "    </tr>\n",
       "    <tr>\n",
       "      <th>...</th>\n",
       "      <td>...</td>\n",
       "      <td>...</td>\n",
       "      <td>...</td>\n",
       "      <td>...</td>\n",
       "    </tr>\n",
       "    <tr>\n",
       "      <th>1868</th>\n",
       "      <td>r604</td>\n",
       "      <td>45</td>\n",
       "      <td>62.670759</td>\n",
       "      <td>3</td>\n",
       "    </tr>\n",
       "    <tr>\n",
       "      <th>1869</th>\n",
       "      <td>z969</td>\n",
       "      <td>45</td>\n",
       "      <td>73.867845</td>\n",
       "      <td>4</td>\n",
       "    </tr>\n",
       "    <tr>\n",
       "      <th>1870</th>\n",
       "      <td>g791</td>\n",
       "      <td>45</td>\n",
       "      <td>29.128472</td>\n",
       "      <td>1</td>\n",
       "    </tr>\n",
       "    <tr>\n",
       "      <th>1871</th>\n",
       "      <td>i635</td>\n",
       "      <td>45</td>\n",
       "      <td>58.633404</td>\n",
       "      <td>3</td>\n",
       "    </tr>\n",
       "    <tr>\n",
       "      <th>1872</th>\n",
       "      <td>o287</td>\n",
       "      <td>45</td>\n",
       "      <td>59.741901</td>\n",
       "      <td>4</td>\n",
       "    </tr>\n",
       "  </tbody>\n",
       "</table>\n",
       "<p>1873 rows × 4 columns</p>\n",
       "</div>"
      ],
      "text/plain": [
       "     Mouse ID  Timepoint  Tumor Volume (mm3)  Metastatic Sites\n",
       "0        b128          0           45.000000                 0\n",
       "1        f932          0           45.000000                 0\n",
       "2        g107          0           45.000000                 0\n",
       "3        a457          0           45.000000                 0\n",
       "4        c819          0           45.000000                 0\n",
       "...       ...        ...                 ...               ...\n",
       "1868     r604         45           62.670759                 3\n",
       "1869     z969         45           73.867845                 4\n",
       "1870     g791         45           29.128472                 1\n",
       "1871     i635         45           58.633404                 3\n",
       "1872     o287         45           59.741901                 4\n",
       "\n",
       "[1873 rows x 4 columns]"
      ]
     },
     "execution_count": 3,
     "metadata": {},
     "output_type": "execute_result"
    }
   ],
   "source": [
    "# Study data files\n",
    "mouse_metadata_path = \"data/Mouse_metadata.csv\"\n",
    "study_results_path = \"data/Study_results.csv\"\n",
    "\n",
    "# Read the mouse data and the study results\n",
    "mouse_metadata = pd.read_csv(mouse_metadata_path)\n",
    "study_results = pd.read_csv(study_results_path)\n",
    "\n",
    "mouse_metadata_df = pd.DataFrame(mouse_metadata)\n",
    "study_results_df = pd.DataFrame(study_results)\n",
    "study_results_df.head(-20)"
   ]
  },
  {
   "cell_type": "code",
   "execution_count": 4,
   "id": "6d5c5d96",
   "metadata": {},
   "outputs": [
    {
     "data": {
      "text/plain": [
       "Index(['Mouse ID', 'Drug Regimen', 'Sex', 'Age_months', 'Weight (g)'], dtype='object')"
      ]
     },
     "execution_count": 4,
     "metadata": {},
     "output_type": "execute_result"
    }
   ],
   "source": [
    "#Look at columns to find where to merge\n",
    "mouse_metadata.columns\n"
   ]
  },
  {
   "cell_type": "code",
   "execution_count": 5,
   "id": "859629e8",
   "metadata": {},
   "outputs": [
    {
     "data": {
      "text/plain": [
       "Index(['Mouse ID', 'Timepoint', 'Tumor Volume (mm3)', 'Metastatic Sites'], dtype='object')"
      ]
     },
     "execution_count": 5,
     "metadata": {},
     "output_type": "execute_result"
    }
   ],
   "source": [
    "#Look at columsn to find where to merge\n",
    "study_results.columns\n"
   ]
  },
  {
   "cell_type": "code",
   "execution_count": 6,
   "id": "21b76345",
   "metadata": {},
   "outputs": [
    {
     "data": {
      "text/html": [
       "<div>\n",
       "<style scoped>\n",
       "    .dataframe tbody tr th:only-of-type {\n",
       "        vertical-align: middle;\n",
       "    }\n",
       "\n",
       "    .dataframe tbody tr th {\n",
       "        vertical-align: top;\n",
       "    }\n",
       "\n",
       "    .dataframe thead th {\n",
       "        text-align: right;\n",
       "    }\n",
       "</style>\n",
       "<table border=\"1\" class=\"dataframe\">\n",
       "  <thead>\n",
       "    <tr style=\"text-align: right;\">\n",
       "      <th></th>\n",
       "      <th>Mouse ID</th>\n",
       "      <th>Timepoint</th>\n",
       "      <th>Tumor Volume (mm3)</th>\n",
       "      <th>Metastatic Sites</th>\n",
       "      <th>Drug Regimen</th>\n",
       "      <th>Sex</th>\n",
       "      <th>Age_months</th>\n",
       "      <th>Weight (g)</th>\n",
       "    </tr>\n",
       "  </thead>\n",
       "  <tbody>\n",
       "    <tr>\n",
       "      <th>0</th>\n",
       "      <td>b128</td>\n",
       "      <td>0</td>\n",
       "      <td>45.000000</td>\n",
       "      <td>0</td>\n",
       "      <td>Capomulin</td>\n",
       "      <td>Female</td>\n",
       "      <td>9</td>\n",
       "      <td>22</td>\n",
       "    </tr>\n",
       "    <tr>\n",
       "      <th>1</th>\n",
       "      <td>b128</td>\n",
       "      <td>5</td>\n",
       "      <td>45.651331</td>\n",
       "      <td>0</td>\n",
       "      <td>Capomulin</td>\n",
       "      <td>Female</td>\n",
       "      <td>9</td>\n",
       "      <td>22</td>\n",
       "    </tr>\n",
       "    <tr>\n",
       "      <th>2</th>\n",
       "      <td>b128</td>\n",
       "      <td>10</td>\n",
       "      <td>43.270852</td>\n",
       "      <td>0</td>\n",
       "      <td>Capomulin</td>\n",
       "      <td>Female</td>\n",
       "      <td>9</td>\n",
       "      <td>22</td>\n",
       "    </tr>\n",
       "    <tr>\n",
       "      <th>3</th>\n",
       "      <td>b128</td>\n",
       "      <td>15</td>\n",
       "      <td>43.784893</td>\n",
       "      <td>0</td>\n",
       "      <td>Capomulin</td>\n",
       "      <td>Female</td>\n",
       "      <td>9</td>\n",
       "      <td>22</td>\n",
       "    </tr>\n",
       "    <tr>\n",
       "      <th>4</th>\n",
       "      <td>b128</td>\n",
       "      <td>20</td>\n",
       "      <td>42.731552</td>\n",
       "      <td>0</td>\n",
       "      <td>Capomulin</td>\n",
       "      <td>Female</td>\n",
       "      <td>9</td>\n",
       "      <td>22</td>\n",
       "    </tr>\n",
       "  </tbody>\n",
       "</table>\n",
       "</div>"
      ],
      "text/plain": [
       "  Mouse ID  Timepoint  Tumor Volume (mm3)  Metastatic Sites Drug Regimen  \\\n",
       "0     b128          0           45.000000                 0    Capomulin   \n",
       "1     b128          5           45.651331                 0    Capomulin   \n",
       "2     b128         10           43.270852                 0    Capomulin   \n",
       "3     b128         15           43.784893                 0    Capomulin   \n",
       "4     b128         20           42.731552                 0    Capomulin   \n",
       "\n",
       "      Sex  Age_months  Weight (g)  \n",
       "0  Female           9          22  \n",
       "1  Female           9          22  \n",
       "2  Female           9          22  \n",
       "3  Female           9          22  \n",
       "4  Female           9          22  "
      ]
     },
     "execution_count": 6,
     "metadata": {},
     "output_type": "execute_result"
    }
   ],
   "source": [
    "# Combine the data into a single dataset\n",
    "mouse_study_df = pd.merge(study_results_df, mouse_metadata_df, on=['Mouse ID'])\n",
    "copy_mouse_study = mouse_study_df\n",
    "\n",
    "mouse_study_df.head()\n"
   ]
  },
  {
   "cell_type": "code",
   "execution_count": 7,
   "id": "e3f72202",
   "metadata": {},
   "outputs": [
    {
     "data": {
      "text/plain": [
       "Mouse ID              1893\n",
       "Timepoint             1893\n",
       "Tumor Volume (mm3)    1893\n",
       "Metastatic Sites      1893\n",
       "Drug Regimen          1893\n",
       "Sex                   1893\n",
       "Age_months            1893\n",
       "Weight (g)            1893\n",
       "dtype: int64"
      ]
     },
     "execution_count": 7,
     "metadata": {},
     "output_type": "execute_result"
    }
   ],
   "source": [
    "mouse_study_df.count()"
   ]
  },
  {
   "cell_type": "code",
   "execution_count": 8,
   "id": "581fa968",
   "metadata": {},
   "outputs": [
    {
     "name": "stdout",
     "output_type": "stream",
     "text": [
      "249\n"
     ]
    }
   ],
   "source": [
    "#Display the number of unique mice IDs in the data, and then check for any mouse ID with duplicate time points.\n",
    "number_of_mice = len(mouse_study_df['Mouse ID'].unique())\n",
    "print(number_of_mice)\n"
   ]
  },
  {
   "cell_type": "code",
   "execution_count": 20,
   "id": "5bb00b83",
   "metadata": {},
   "outputs": [
    {
     "name": "stdout",
     "output_type": "stream",
     "text": [
      "     Mouse ID  Timepoint  Tumor Volume (mm3)  Metastatic Sites Drug Regimen  \\\n",
      "10       f932          0           45.000000                 0     Ketapril   \n",
      "11       g107          0           45.000000                 0     Ketapril   \n",
      "12       g107          5           48.791665                 0     Ketapril   \n",
      "13       g107         10           53.435987                 0     Ketapril   \n",
      "14       g107         15           58.135545                 0     Ketapril   \n",
      "...       ...        ...                 ...               ...          ...   \n",
      "1888     m601         25           33.118756                 1    Capomulin   \n",
      "1889     m601         30           31.758275                 1    Capomulin   \n",
      "1890     m601         35           30.834357                 1    Capomulin   \n",
      "1891     m601         40           31.378045                 1    Capomulin   \n",
      "1892     m601         45           28.430964                 1    Capomulin   \n",
      "\n",
      "         Sex  Age_months  Weight (g)  \n",
      "10      Male          15          29  \n",
      "11    Female           2          29  \n",
      "12    Female           2          29  \n",
      "13    Female           2          29  \n",
      "14    Female           2          29  \n",
      "...      ...         ...         ...  \n",
      "1888    Male          22          17  \n",
      "1889    Male          22          17  \n",
      "1890    Male          22          17  \n",
      "1891    Male          22          17  \n",
      "1892    Male          22          17  \n",
      "\n",
      "[1883 rows x 8 columns]\n"
     ]
    }
   ],
   "source": [
    "# Get list of duplicate rows based on 'Mouse ID' column\n",
    "df2 = mouse_study_df[mouse_study_df.duplicated('Mouse ID')]\n",
    "#print(df2)\n",
    "\n",
    "# Select duplicate rows of all columns\n",
    "df2 = mouse_study_df[mouse_study_df.duplicated(\"Timepoint\")]\n",
    "print(df2)\n",
    "\n"
   ]
  },
  {
   "cell_type": "code",
   "execution_count": 21,
   "id": "aaaf8c13",
   "metadata": {},
   "outputs": [],
   "source": [
    "\n",
    "#Duplicated Mouse ID dataframe\n",
    "dup_data_df = pd.DataFrame(df2)\n",
    "# Select duplicate rows of all columns\n",
    "\n",
    "#dup_data_df.head()"
   ]
  },
  {
   "cell_type": "code",
   "execution_count": 22,
   "id": "a9c5676d",
   "metadata": {},
   "outputs": [
    {
     "data": {
      "text/plain": [
       "1644"
      ]
     },
     "execution_count": 22,
     "metadata": {},
     "output_type": "execute_result"
    }
   ],
   "source": [
    "#check to evaluate the numbers are the same.\n",
    "mouse_study_df['Mouse ID'].duplicated().sum()\n"
   ]
  },
  {
   "cell_type": "code",
   "execution_count": 31,
   "id": "b627f472",
   "metadata": {},
   "outputs": [
    {
     "data": {
      "text/html": [
       "<div>\n",
       "<style scoped>\n",
       "    .dataframe tbody tr th:only-of-type {\n",
       "        vertical-align: middle;\n",
       "    }\n",
       "\n",
       "    .dataframe tbody tr th {\n",
       "        vertical-align: top;\n",
       "    }\n",
       "\n",
       "    .dataframe thead th {\n",
       "        text-align: right;\n",
       "    }\n",
       "</style>\n",
       "<table border=\"1\" class=\"dataframe\">\n",
       "  <thead>\n",
       "    <tr style=\"text-align: right;\">\n",
       "      <th></th>\n",
       "      <th>Mouse ID</th>\n",
       "      <th>Timepoint</th>\n",
       "      <th>Tumor Volume (mm3)</th>\n",
       "      <th>Metastatic Sites</th>\n",
       "      <th>Drug Regimen</th>\n",
       "      <th>Sex</th>\n",
       "      <th>Age_months</th>\n",
       "      <th>Weight (g)</th>\n",
       "    </tr>\n",
       "  </thead>\n",
       "  <tbody>\n",
       "    <tr>\n",
       "      <th>0</th>\n",
       "      <td>b128</td>\n",
       "      <td>0</td>\n",
       "      <td>45.000000</td>\n",
       "      <td>0</td>\n",
       "      <td>Capomulin</td>\n",
       "      <td>Female</td>\n",
       "      <td>9</td>\n",
       "      <td>22</td>\n",
       "    </tr>\n",
       "    <tr>\n",
       "      <th>1</th>\n",
       "      <td>b128</td>\n",
       "      <td>5</td>\n",
       "      <td>45.651331</td>\n",
       "      <td>0</td>\n",
       "      <td>Capomulin</td>\n",
       "      <td>Female</td>\n",
       "      <td>9</td>\n",
       "      <td>22</td>\n",
       "    </tr>\n",
       "    <tr>\n",
       "      <th>2</th>\n",
       "      <td>b128</td>\n",
       "      <td>10</td>\n",
       "      <td>43.270852</td>\n",
       "      <td>0</td>\n",
       "      <td>Capomulin</td>\n",
       "      <td>Female</td>\n",
       "      <td>9</td>\n",
       "      <td>22</td>\n",
       "    </tr>\n",
       "    <tr>\n",
       "      <th>3</th>\n",
       "      <td>b128</td>\n",
       "      <td>15</td>\n",
       "      <td>43.784893</td>\n",
       "      <td>0</td>\n",
       "      <td>Capomulin</td>\n",
       "      <td>Female</td>\n",
       "      <td>9</td>\n",
       "      <td>22</td>\n",
       "    </tr>\n",
       "    <tr>\n",
       "      <th>4</th>\n",
       "      <td>b128</td>\n",
       "      <td>20</td>\n",
       "      <td>42.731552</td>\n",
       "      <td>0</td>\n",
       "      <td>Capomulin</td>\n",
       "      <td>Female</td>\n",
       "      <td>9</td>\n",
       "      <td>22</td>\n",
       "    </tr>\n",
       "    <tr>\n",
       "      <th>...</th>\n",
       "      <td>...</td>\n",
       "      <td>...</td>\n",
       "      <td>...</td>\n",
       "      <td>...</td>\n",
       "      <td>...</td>\n",
       "      <td>...</td>\n",
       "      <td>...</td>\n",
       "      <td>...</td>\n",
       "    </tr>\n",
       "    <tr>\n",
       "      <th>495</th>\n",
       "      <td>j989</td>\n",
       "      <td>20</td>\n",
       "      <td>41.635344</td>\n",
       "      <td>1</td>\n",
       "      <td>Ramicane</td>\n",
       "      <td>Male</td>\n",
       "      <td>8</td>\n",
       "      <td>19</td>\n",
       "    </tr>\n",
       "    <tr>\n",
       "      <th>496</th>\n",
       "      <td>j989</td>\n",
       "      <td>25</td>\n",
       "      <td>39.934112</td>\n",
       "      <td>1</td>\n",
       "      <td>Ramicane</td>\n",
       "      <td>Male</td>\n",
       "      <td>8</td>\n",
       "      <td>19</td>\n",
       "    </tr>\n",
       "    <tr>\n",
       "      <th>497</th>\n",
       "      <td>j989</td>\n",
       "      <td>30</td>\n",
       "      <td>34.671781</td>\n",
       "      <td>1</td>\n",
       "      <td>Ramicane</td>\n",
       "      <td>Male</td>\n",
       "      <td>8</td>\n",
       "      <td>19</td>\n",
       "    </tr>\n",
       "    <tr>\n",
       "      <th>498</th>\n",
       "      <td>j989</td>\n",
       "      <td>35</td>\n",
       "      <td>35.115590</td>\n",
       "      <td>1</td>\n",
       "      <td>Ramicane</td>\n",
       "      <td>Male</td>\n",
       "      <td>8</td>\n",
       "      <td>19</td>\n",
       "    </tr>\n",
       "    <tr>\n",
       "      <th>499</th>\n",
       "      <td>j989</td>\n",
       "      <td>40</td>\n",
       "      <td>35.501190</td>\n",
       "      <td>1</td>\n",
       "      <td>Ramicane</td>\n",
       "      <td>Male</td>\n",
       "      <td>8</td>\n",
       "      <td>19</td>\n",
       "    </tr>\n",
       "  </tbody>\n",
       "</table>\n",
       "<p>500 rows × 8 columns</p>\n",
       "</div>"
      ],
      "text/plain": [
       "    Mouse ID  Timepoint  Tumor Volume (mm3)  Metastatic Sites Drug Regimen  \\\n",
       "0       b128          0           45.000000                 0    Capomulin   \n",
       "1       b128          5           45.651331                 0    Capomulin   \n",
       "2       b128         10           43.270852                 0    Capomulin   \n",
       "3       b128         15           43.784893                 0    Capomulin   \n",
       "4       b128         20           42.731552                 0    Capomulin   \n",
       "..       ...        ...                 ...               ...          ...   \n",
       "495     j989         20           41.635344                 1     Ramicane   \n",
       "496     j989         25           39.934112                 1     Ramicane   \n",
       "497     j989         30           34.671781                 1     Ramicane   \n",
       "498     j989         35           35.115590                 1     Ramicane   \n",
       "499     j989         40           35.501190                 1     Ramicane   \n",
       "\n",
       "        Sex  Age_months  Weight (g)  \n",
       "0    Female           9          22  \n",
       "1    Female           9          22  \n",
       "2    Female           9          22  \n",
       "3    Female           9          22  \n",
       "4    Female           9          22  \n",
       "..      ...         ...         ...  \n",
       "495    Male           8          19  \n",
       "496    Male           8          19  \n",
       "497    Male           8          19  \n",
       "498    Male           8          19  \n",
       "499    Male           8          19  \n",
       "\n",
       "[500 rows x 8 columns]"
      ]
     },
     "execution_count": 31,
     "metadata": {},
     "output_type": "execute_result"
    }
   ],
   "source": [
    "#drop the duplicates\n",
    "mouse_study_df2 = mouse_study_df.drop_duplicates()\n",
    "\n",
    "mouse_study_df2 = mouse_study_df.drop_duplicates()\n",
    "mouse_study_df2.head(500)"
   ]
  },
  {
   "cell_type": "code",
   "execution_count": 32,
   "id": "4e3f94f4",
   "metadata": {},
   "outputs": [
    {
     "name": "stdout",
     "output_type": "stream",
     "text": [
      "249\n"
     ]
    }
   ],
   "source": [
    "number_of_mice = len(mouse_study_df['Mouse ID'].unique())\n",
    "print(number_of_mice)\n",
    "\n",
    "#mouse_study_df2[[\"Sex\"]].describe()\n",
    "#mouse_study_df2[[\"Mouse ID\"]].describe()\n",
    "#mouse_study_df2[[\"Drug Regimen\"]].describe()"
   ]
  },
  {
   "cell_type": "markdown",
   "id": "2078a67f",
   "metadata": {},
   "source": [
    "# FLAG--- should be 248"
   ]
  },
  {
   "cell_type": "code",
   "execution_count": 15,
   "id": "94e714ee",
   "metadata": {},
   "outputs": [
    {
     "data": {
      "text/plain": [
       "Mouse ID              10\n",
       "Timepoint             10\n",
       "Tumor Volume (mm3)    10\n",
       "Metastatic Sites      10\n",
       "Drug Regimen          10\n",
       "Sex                   10\n",
       "Age_months            10\n",
       "Weight (g)            10\n",
       "dtype: int64"
      ]
     },
     "execution_count": 15,
     "metadata": {},
     "output_type": "execute_result"
    }
   ],
   "source": [
    "mouse_study_df2.count()\n"
   ]
  },
  {
   "cell_type": "markdown",
   "id": "605633f6",
   "metadata": {},
   "source": [
    "### Summary Statistics\n"
   ]
  },
  {
   "cell_type": "code",
   "execution_count": 16,
   "id": "4074c0ee",
   "metadata": {},
   "outputs": [
    {
     "data": {
      "text/html": [
       "<div>\n",
       "<style scoped>\n",
       "    .dataframe tbody tr th:only-of-type {\n",
       "        vertical-align: middle;\n",
       "    }\n",
       "\n",
       "    .dataframe tbody tr th {\n",
       "        vertical-align: top;\n",
       "    }\n",
       "\n",
       "    .dataframe thead th {\n",
       "        text-align: right;\n",
       "    }\n",
       "</style>\n",
       "<table border=\"1\" class=\"dataframe\">\n",
       "  <thead>\n",
       "    <tr style=\"text-align: right;\">\n",
       "      <th></th>\n",
       "      <th>Tumor Volume (mm3)</th>\n",
       "    </tr>\n",
       "  </thead>\n",
       "  <tbody>\n",
       "    <tr>\n",
       "      <th>count</th>\n",
       "      <td>10.000000</td>\n",
       "    </tr>\n",
       "    <tr>\n",
       "      <th>mean</th>\n",
       "      <td>41.963636</td>\n",
       "    </tr>\n",
       "    <tr>\n",
       "      <th>std</th>\n",
       "      <td>2.782135</td>\n",
       "    </tr>\n",
       "    <tr>\n",
       "      <th>min</th>\n",
       "      <td>37.967644</td>\n",
       "    </tr>\n",
       "    <tr>\n",
       "      <th>25%</th>\n",
       "      <td>39.388492</td>\n",
       "    </tr>\n",
       "    <tr>\n",
       "      <th>50%</th>\n",
       "      <td>42.996848</td>\n",
       "    </tr>\n",
       "    <tr>\n",
       "      <th>75%</th>\n",
       "      <td>43.656383</td>\n",
       "    </tr>\n",
       "    <tr>\n",
       "      <th>max</th>\n",
       "      <td>45.651331</td>\n",
       "    </tr>\n",
       "  </tbody>\n",
       "</table>\n",
       "</div>"
      ],
      "text/plain": [
       "       Tumor Volume (mm3)\n",
       "count           10.000000\n",
       "mean            41.963636\n",
       "std              2.782135\n",
       "min             37.967644\n",
       "25%             39.388492\n",
       "50%             42.996848\n",
       "75%             43.656383\n",
       "max             45.651331"
      ]
     },
     "execution_count": 16,
     "metadata": {},
     "output_type": "execute_result"
    }
   ],
   "source": [
    "mouse_study_df2[[\"Tumor Volume (mm3)\"]].describe()"
   ]
  },
  {
   "cell_type": "code",
   "execution_count": 17,
   "id": "5f40a013",
   "metadata": {},
   "outputs": [
    {
     "data": {
      "text/html": [
       "<div>\n",
       "<style scoped>\n",
       "    .dataframe tbody tr th:only-of-type {\n",
       "        vertical-align: middle;\n",
       "    }\n",
       "\n",
       "    .dataframe tbody tr th {\n",
       "        vertical-align: top;\n",
       "    }\n",
       "\n",
       "    .dataframe thead th {\n",
       "        text-align: right;\n",
       "    }\n",
       "</style>\n",
       "<table border=\"1\" class=\"dataframe\">\n",
       "  <thead>\n",
       "    <tr style=\"text-align: right;\">\n",
       "      <th></th>\n",
       "      <th>Mean Tumor Volume(mm3)</th>\n",
       "      <th>Median Tumor Volume(mm3)</th>\n",
       "      <th>Tumor Volume(mm3) Std. Dev.</th>\n",
       "      <th>Tumor Volume(mm3) Std. Err</th>\n",
       "    </tr>\n",
       "    <tr>\n",
       "      <th>Drug Regimen</th>\n",
       "      <th></th>\n",
       "      <th></th>\n",
       "      <th></th>\n",
       "      <th></th>\n",
       "    </tr>\n",
       "  </thead>\n",
       "  <tbody>\n",
       "    <tr>\n",
       "      <th>Capomulin</th>\n",
       "      <td>41.963636</td>\n",
       "      <td>42.996848</td>\n",
       "      <td>2.782135</td>\n",
       "      <td>0.879788</td>\n",
       "    </tr>\n",
       "  </tbody>\n",
       "</table>\n",
       "</div>"
      ],
      "text/plain": [
       "              Mean Tumor Volume(mm3)  Median Tumor Volume(mm3)  \\\n",
       "Drug Regimen                                                     \n",
       "Capomulin                  41.963636                 42.996848   \n",
       "\n",
       "              Tumor Volume(mm3) Std. Dev.  Tumor Volume(mm3) Std. Err  \n",
       "Drug Regimen                                                           \n",
       "Capomulin                        2.782135                    0.879788  "
      ]
     },
     "execution_count": 17,
     "metadata": {},
     "output_type": "execute_result"
    }
   ],
   "source": [
    "#Generate a summary statistics table of mean, median, variance, standard deviation, and SEM of the tumor volume for each regimen\n",
    "mouse_study_stats_df = pd.DataFrame()\n",
    "mouse_study_stats_df.sort_index(axis=1,ascending=True)\n",
    "\n",
    "#Use groupby and summary statistical methods to calculate the following properties of each drug regimen:\n",
    "#drug_regimen = mouse_study_df2.groupby(['Drug Regimen'])\n",
    "mean_tumor_regimen = mouse_study_df2.groupby('Drug Regimen')['Tumor Volume (mm3)'].mean()\n",
    "median_tumor_volume = mouse_study_df2.groupby('Drug Regimen')['Tumor Volume (mm3)'].median()\n",
    "tumor_volume__stddev = mouse_study_df2.groupby('Drug Regimen')['Tumor Volume (mm3)'].std()\n",
    "tumor_volume_stderr = mouse_study_df2.groupby(['Drug Regimen'])['Tumor Volume (mm3)'].sem()\n",
    "\n",
    "#print(drug_regimen)\n",
    "#mouse_study_stats_df['Drug Regimen'] = [drug_regimen]\n",
    "mouse_study_stats_df['Mean Tumor Volume(mm3)'] = mean_tumor_regimen\n",
    "mouse_study_stats_df['Median Tumor Volume(mm3)'] = median_tumor_volume\n",
    "mouse_study_stats_df['Tumor Volume(mm3) Std. Dev.'] = tumor_volume__stddev\n",
    "mouse_study_stats_df['Tumor Volume(mm3) Std. Err'] = tumor_volume_stderr\n",
    "\n",
    "#Assemble the resulting series into a single summary DataFrame.\n",
    "\n",
    "mouse_study_stats_df.head(20)\n",
    "#mean_tumor_regimen"
   ]
  },
  {
   "cell_type": "markdown",
   "id": "c2ee5530",
   "metadata": {},
   "source": [
    "# flag-- wrong values"
   ]
  },
  {
   "cell_type": "code",
   "execution_count": 18,
   "id": "44e1501a",
   "metadata": {},
   "outputs": [
    {
     "data": {
      "text/html": [
       "<div>\n",
       "<style scoped>\n",
       "    .dataframe tbody tr th:only-of-type {\n",
       "        vertical-align: middle;\n",
       "    }\n",
       "\n",
       "    .dataframe tbody tr th {\n",
       "        vertical-align: top;\n",
       "    }\n",
       "\n",
       "    .dataframe thead tr th {\n",
       "        text-align: left;\n",
       "    }\n",
       "\n",
       "    .dataframe thead tr:last-of-type th {\n",
       "        text-align: right;\n",
       "    }\n",
       "</style>\n",
       "<table border=\"1\" class=\"dataframe\">\n",
       "  <thead>\n",
       "    <tr>\n",
       "      <th></th>\n",
       "      <th colspan=\"4\" halign=\"left\">Tumor Volume (mm3)</th>\n",
       "    </tr>\n",
       "    <tr>\n",
       "      <th></th>\n",
       "      <th>mean</th>\n",
       "      <th>median</th>\n",
       "      <th>std</th>\n",
       "      <th>sem</th>\n",
       "    </tr>\n",
       "    <tr>\n",
       "      <th>Drug Regimen</th>\n",
       "      <th></th>\n",
       "      <th></th>\n",
       "      <th></th>\n",
       "      <th></th>\n",
       "    </tr>\n",
       "  </thead>\n",
       "  <tbody>\n",
       "    <tr>\n",
       "      <th>Capomulin</th>\n",
       "      <td>41.963636</td>\n",
       "      <td>42.996848</td>\n",
       "      <td>2.782135</td>\n",
       "      <td>0.879788</td>\n",
       "    </tr>\n",
       "  </tbody>\n",
       "</table>\n",
       "</div>"
      ],
      "text/plain": [
       "             Tumor Volume (mm3)                               \n",
       "                           mean     median       std       sem\n",
       "Drug Regimen                                                  \n",
       "Capomulin             41.963636  42.996848  2.782135  0.879788"
      ]
     },
     "execution_count": 18,
     "metadata": {},
     "output_type": "execute_result"
    }
   ],
   "source": [
    "mouse_study_grouped_single = mouse_study_df2.groupby('Drug Regimen').agg({'Tumor Volume (mm3)': ['mean', 'median', 'std','sem']})\n",
    "mouse_study_grouped_single.head()\n"
   ]
  },
  {
   "cell_type": "markdown",
   "id": "17b47683",
   "metadata": {},
   "source": [
    "### Bar and Pie Charts\n"
   ]
  },
  {
   "cell_type": "code",
   "execution_count": 19,
   "id": "4803a0eb",
   "metadata": {},
   "outputs": [
    {
     "ename": "AttributeError",
     "evalue": "'SeriesGroupBy' object has no attribute 'counts'",
     "output_type": "error",
     "traceback": [
      "\u001b[0;31m---------------------------------------------------------------------------\u001b[0m",
      "\u001b[0;31mAttributeError\u001b[0m                            Traceback (most recent call last)",
      "\u001b[0;32m/var/folders/zf/1q8xty857g31mrxsgrry1mlr0000gn/T/ipykernel_5980/2184358979.py\u001b[0m in \u001b[0;36m<module>\u001b[0;34m\u001b[0m\n\u001b[1;32m      1\u001b[0m \u001b[0;31m#Create the first bar chart with the Pandas DataFrame.plot() method\u001b[0m\u001b[0;34m\u001b[0m\u001b[0;34m\u001b[0m\u001b[0;34m\u001b[0m\u001b[0m\n\u001b[1;32m      2\u001b[0m \u001b[0;34m\u001b[0m\u001b[0m\n\u001b[0;32m----> 3\u001b[0;31m \u001b[0mtotal_timepoints\u001b[0m \u001b[0;34m=\u001b[0m \u001b[0mmouse_study_df2\u001b[0m\u001b[0;34m.\u001b[0m\u001b[0mgroupby\u001b[0m\u001b[0;34m(\u001b[0m\u001b[0;34m[\u001b[0m\u001b[0;34m'Drug Regimen'\u001b[0m\u001b[0;34m]\u001b[0m\u001b[0;34m)\u001b[0m\u001b[0;34m[\u001b[0m\u001b[0;34m'Timepoint'\u001b[0m\u001b[0;34m]\u001b[0m\u001b[0;34m.\u001b[0m\u001b[0mcounts\u001b[0m\u001b[0;34m(\u001b[0m\u001b[0;34m)\u001b[0m\u001b[0;34m\u001b[0m\u001b[0;34m\u001b[0m\u001b[0m\n\u001b[0m\u001b[1;32m      4\u001b[0m \u001b[0mdrug_regimen\u001b[0m \u001b[0;34m=\u001b[0m \u001b[0mmouse_study_df2\u001b[0m\u001b[0;34m[\u001b[0m\u001b[0;34m'Drug Regimen'\u001b[0m\u001b[0;34m]\u001b[0m\u001b[0;34m\u001b[0m\u001b[0;34m\u001b[0m\u001b[0m\n\u001b[1;32m      5\u001b[0m \u001b[0;34m\u001b[0m\u001b[0m\n",
      "\u001b[0;32m~/opt/anaconda3/envs/PythonData/lib/python3.7/site-packages/pandas/core/groupby/groupby.py\u001b[0m in \u001b[0;36m__getattr__\u001b[0;34m(self, attr)\u001b[0m\n\u001b[1;32m    910\u001b[0m \u001b[0;34m\u001b[0m\u001b[0m\n\u001b[1;32m    911\u001b[0m         raise AttributeError(\n\u001b[0;32m--> 912\u001b[0;31m             \u001b[0;34mf\"'{type(self).__name__}' object has no attribute '{attr}'\"\u001b[0m\u001b[0;34m\u001b[0m\u001b[0;34m\u001b[0m\u001b[0m\n\u001b[0m\u001b[1;32m    913\u001b[0m         )\n\u001b[1;32m    914\u001b[0m \u001b[0;34m\u001b[0m\u001b[0m\n",
      "\u001b[0;31mAttributeError\u001b[0m: 'SeriesGroupBy' object has no attribute 'counts'"
     ]
    }
   ],
   "source": [
    "#Create the first bar chart with the Pandas DataFrame.plot() method\n",
    "\n",
    "total_timepoints = mouse_study_df2.groupby(['Drug Regimen'])['Timepoint'].counts()\n",
    "drug_regimen = mouse_study_df2['Drug Regimen']\n",
    "\n",
    "plt.bar(total_timepoints, drug_regimen)\n",
    "plt.title('Total number of timepoints for each drug regimen')\n",
    "plt.xlabel('Drug Regimen')\n",
    "plt.ylabel('Timepoints')\n",
    "plt.show()\n"
   ]
  },
  {
   "cell_type": "code",
   "execution_count": null,
   "id": "6ec02c55",
   "metadata": {},
   "outputs": [],
   "source": [
    "#Create the second bar chart with Matplotlib's pyplot methods.\n",
    "\n",
    "# Generate a bar plot showing the total number of timepoints for all mice tested for each drug regimen using Pandas.\n",
    "num_mice_tested = mouse_study_df2.groupby(['Drug Regimen'])['Mouse ID','Timepoint'].value_counts()\n",
    "\n",
    "num_mice_chart = num_mice_tested.plot(kind='bar', figsize=(6,8))\n",
    "num_mice_chart.set_xlabel('Drug Regimen')\n",
    "num_mice_chart.set_ylabel('Number of Mice Tested')\n",
    "plt.ylim(0,250)\n",
    "plt.show()\n",
    "#plt.tight_layout()"
   ]
  },
  {
   "cell_type": "markdown",
   "id": "50955e6a",
   "metadata": {},
   "source": [
    "# Pie Chart- Flag- off numbers"
   ]
  },
  {
   "cell_type": "code",
   "execution_count": null,
   "id": "8b72d3eb",
   "metadata": {},
   "outputs": [],
   "source": [
    "#Pie Chart using Matplotlib\n",
    "\n",
    "# Creating dataset\n",
    "gender = ['Male', 'Female']\n",
    " \n",
    "my_data = (mouse_study_df2[\"Sex\"].value_counts()/248)*100\n",
    "\n",
    "# Creating plot\n",
    "plt.pie(my_data, labels=gender, autopct='%1.1f%%')\n",
    "plt.title('Percentage Sex of Mice')\n",
    "plt.axis('equal')\n",
    "plt.show()"
   ]
  },
  {
   "cell_type": "code",
   "execution_count": null,
   "id": "9d05f6f4",
   "metadata": {},
   "outputs": [],
   "source": [
    "# Generate a pie plot showing the distribution of female versus male mice using Pandas\n",
    "# Creating plot Using Pandas\n",
    "\n",
    "#labels = [\"Male\", \"Female\"]\n",
    "gender_data = (mouse_study_df2[\"Sex\"].value_counts()/248)*100\n",
    "\n",
    "#print(gender_data_male)\n",
    "\n",
    "# creating dataframe\n",
    "gender = gender_data.plot(kind='pie',autopct='%.1f%%',labels=[\"Male\", \"Female\"])\n",
    "\n",
    " \n",
    "# show plot\n",
    "#plt.show()"
   ]
  },
  {
   "cell_type": "markdown",
   "id": "b261567f",
   "metadata": {},
   "source": [
    "### Quartiles, Outliers, and Boxplots\n",
    "\n",
    "#Calculate the final tumor volume of each mouse across four of the treatment regimens:  \n",
    "#Capomulin, Ramicane, Infubinol, and Ceftamin\n",
    "#Start by getting the last (greatest) timepoint for each mouse\n",
    "#Merge this group df with the original DataFrame to get the tumor volume at the last timepoint\n"
   ]
  },
  {
   "cell_type": "code",
   "execution_count": null,
   "id": "915da947",
   "metadata": {},
   "outputs": [],
   "source": [
    "# Final Tumor Volume for each Mouse -Capomulin, Ramicane, Infubinol, and Ceftamin\n",
    "\n",
    "#Create a grouped DataFrame that shows the last (greatest) time point for each mouse. \n",
    "#Merge this grouped DataFrame with the original cleaned DataFrame.\n",
    "\n",
    "final_tumor_volume_df = pd.DataFrame()"
   ]
  },
  {
   "cell_type": "code",
   "execution_count": null,
   "id": "c09e3622",
   "metadata": {},
   "outputs": [],
   "source": [
    "#Create a list that holds the treatment names as well as a second, empty list to hold the tumor volume data.\n",
    "\n",
    "treatment_names = []\n",
    "tumor_volume_data = []"
   ]
  },
  {
   "cell_type": "code",
   "execution_count": null,
   "id": "f20ee20e",
   "metadata": {},
   "outputs": [],
   "source": [
    "#Loop through each drug in the treatment list, \n",
    "#locating the rows in the merged DataFrame that correspond to each treatment. \n",
    "#Append the resulting final tumor volumes for each drug to the empty list.\n",
    "\n",
    "for final_volume in <<list>>:\n",
    "    tumor_volume_data.append(final_volume)\n",
    "    \n"
   ]
  },
  {
   "cell_type": "code",
   "execution_count": null,
   "id": "686ee7b4",
   "metadata": {},
   "outputs": [],
   "source": [
    "#https://pandas.pydata.org/docs/reference/api/pandas.core.groupby.DataFrameGroupBy.boxplot.html\n",
    "    \n",
    "import itertools\n",
    "tuples = [t for t in itertools.product(range(1000), range(4))]\n",
    "index = pd.MultiIndex.from_tuples(tuples, names=['lvl0', 'lvl1'])\n",
    "data = np.random.randn(len(index),4)\n",
    "df = pd.DataFrame(data, columns=list('ABCD'), index=index)\n",
    "grouped = df.groupby(level='lvl1')\n",
    "grouped.boxplot(rot=45, fontsize=12, figsize=(8,10))  "
   ]
  },
  {
   "cell_type": "code",
   "execution_count": null,
   "id": "baea1af9",
   "metadata": {},
   "outputs": [],
   "source": [
    "#Determine outliers by using the upper and lower bounds, and then print the results.\n",
    "#https://medium.datadriveninvestor.com/finding-outliers-in-dataset-using-python-efc3fce6ce32\n",
    "\n",
    "\n",
    "outliers=[]\n",
    "def detect_outlier(data_1):\n",
    "    #find the mean and standard deviation of the all the data points\n",
    "    threshold=3\n",
    "    mean_1 = np.mean(data_1)\n",
    "    std_1 =np.std(data_1)\n",
    "    \n",
    "    #find the z score for each of the data point in the dataset\n",
    "    #if the z score is greater than 3 than we can classify that point as an outlier.\n",
    "    for y in data_1:\n",
    "        z_score= (y - mean_1)/std_1 \n",
    "        if np.abs(z_score) > threshold:\n",
    "            outliers.append(y)\n",
    "    return outliers"
   ]
  },
  {
   "cell_type": "markdown",
   "id": "32979d33",
   "metadata": {},
   "source": [
    "Use Matplotlib, generate a box plot that shows the distribution of the final tumor volume for all the mice in each treatment group. Highlight any potential outliers in the plot by changing their color and style."
   ]
  },
  {
   "cell_type": "markdown",
   "id": "c59ad7a8",
   "metadata": {},
   "source": [
    "### Line and Scatter Plots"
   ]
  },
  {
   "cell_type": "code",
   "execution_count": null,
   "id": "53f555b9",
   "metadata": {},
   "outputs": [],
   "source": [
    "# Generate a line plot of tumor volume vs. time point for a mouse treated with Capomulin\n"
   ]
  },
  {
   "cell_type": "code",
   "execution_count": null,
   "id": "a519caa7",
   "metadata": {},
   "outputs": [],
   "source": [
    "# Generate a scatter plot of average tumor volume vs. mouse weight for the Capomulin regimen\n",
    " '''df = pd.DataFrame([[5.1, 3.5, 0], [4.9, 3.0, 0], [7.0, 3.2, 1],\n",
    "                   [6.4, 3.2, 1], [5.9, 3.0, 2]],\n",
    "                   columns=['length', 'width', 'species'])\n",
    ">>> ax1 = df.plot.scatter(x='length',\n",
    "                       y='width',\n",
    "                       c='DarkBlue')'''"
   ]
  }
 ],
 "metadata": {
  "kernelspec": {
   "display_name": "Python 3 (ipykernel)",
   "language": "python",
   "name": "python3"
  },
  "language_info": {
   "codemirror_mode": {
    "name": "ipython",
    "version": 3
   },
   "file_extension": ".py",
   "mimetype": "text/x-python",
   "name": "python",
   "nbconvert_exporter": "python",
   "pygments_lexer": "ipython3",
   "version": "3.7.13"
  }
 },
 "nbformat": 4,
 "nbformat_minor": 5
}
