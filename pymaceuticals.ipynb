{
 "cells": [
  {
   "cell_type": "markdown",
   "id": "530bd193",
   "metadata": {},
   "source": [
    "# Pymaceuticals Inc.\n",
    "---\n",
    "\n",
    "### Analysis\n",
    "\n",
    "- Write at least three observations or inferences that can be made from the data. Include these observations at the top of your notebook."
   ]
  },
  {
   "cell_type": "code",
   "execution_count": 351,
   "id": "82cf337c",
   "metadata": {},
   "outputs": [],
   "source": [
    "# Dependencies and Setup\n",
    "import matplotlib.pyplot as plt\n",
    "import pandas as pd\n",
    "import scipy.stats as st\n",
    "import numpy as np\n",
    "import itertools"
   ]
  },
  {
   "cell_type": "code",
   "execution_count": 352,
   "id": "402c9ef2",
   "metadata": {},
   "outputs": [],
   "source": [
    "# Study data files\n",
    "mouse_metadata_path = \"data/Mouse_metadata.csv\"\n",
    "study_results_path = \"data/Study_results.csv\"\n",
    "\n",
    "# Read the mouse data and the study results\n",
    "mouse_metadata = pd.read_csv(mouse_metadata_path)\n",
    "study_results = pd.read_csv(study_results_path)\n",
    "\n",
    "mouse_metadata_df = pd.DataFrame(mouse_metadata)\n",
    "study_results_df = pd.DataFrame(study_results)\n",
    "#study_results_df.head()"
   ]
  },
  {
   "cell_type": "code",
   "execution_count": 353,
   "id": "6d5c5d96",
   "metadata": {},
   "outputs": [
    {
     "name": "stdout",
     "output_type": "stream",
     "text": [
      "Index(['Mouse ID', 'Drug Regimen', 'Sex', 'Age_months', 'Weight (g)'], dtype='object')\n",
      "Index(['Mouse ID', 'Timepoint', 'Tumor Volume (mm3)', 'Metastatic Sites'], dtype='object')\n"
     ]
    }
   ],
   "source": [
    "#Look at columns to find where to merge\n",
    "print(mouse_metadata.columns)\n",
    "print(study_results.columns)\n"
   ]
  },
  {
   "cell_type": "code",
   "execution_count": 354,
   "id": "21b76345",
   "metadata": {},
   "outputs": [
    {
     "data": {
      "text/html": [
       "<div>\n",
       "<style scoped>\n",
       "    .dataframe tbody tr th:only-of-type {\n",
       "        vertical-align: middle;\n",
       "    }\n",
       "\n",
       "    .dataframe tbody tr th {\n",
       "        vertical-align: top;\n",
       "    }\n",
       "\n",
       "    .dataframe thead th {\n",
       "        text-align: right;\n",
       "    }\n",
       "</style>\n",
       "<table border=\"1\" class=\"dataframe\">\n",
       "  <thead>\n",
       "    <tr style=\"text-align: right;\">\n",
       "      <th></th>\n",
       "      <th>Mouse ID</th>\n",
       "      <th>Timepoint</th>\n",
       "      <th>Tumor Volume (mm3)</th>\n",
       "      <th>Metastatic Sites</th>\n",
       "      <th>Drug Regimen</th>\n",
       "      <th>Sex</th>\n",
       "      <th>Age_months</th>\n",
       "      <th>Weight (g)</th>\n",
       "    </tr>\n",
       "  </thead>\n",
       "  <tbody>\n",
       "    <tr>\n",
       "      <th>0</th>\n",
       "      <td>b128</td>\n",
       "      <td>0</td>\n",
       "      <td>45.000000</td>\n",
       "      <td>0</td>\n",
       "      <td>Capomulin</td>\n",
       "      <td>Female</td>\n",
       "      <td>9</td>\n",
       "      <td>22</td>\n",
       "    </tr>\n",
       "    <tr>\n",
       "      <th>1</th>\n",
       "      <td>b128</td>\n",
       "      <td>5</td>\n",
       "      <td>45.651331</td>\n",
       "      <td>0</td>\n",
       "      <td>Capomulin</td>\n",
       "      <td>Female</td>\n",
       "      <td>9</td>\n",
       "      <td>22</td>\n",
       "    </tr>\n",
       "    <tr>\n",
       "      <th>2</th>\n",
       "      <td>b128</td>\n",
       "      <td>10</td>\n",
       "      <td>43.270852</td>\n",
       "      <td>0</td>\n",
       "      <td>Capomulin</td>\n",
       "      <td>Female</td>\n",
       "      <td>9</td>\n",
       "      <td>22</td>\n",
       "    </tr>\n",
       "    <tr>\n",
       "      <th>3</th>\n",
       "      <td>b128</td>\n",
       "      <td>15</td>\n",
       "      <td>43.784893</td>\n",
       "      <td>0</td>\n",
       "      <td>Capomulin</td>\n",
       "      <td>Female</td>\n",
       "      <td>9</td>\n",
       "      <td>22</td>\n",
       "    </tr>\n",
       "    <tr>\n",
       "      <th>4</th>\n",
       "      <td>b128</td>\n",
       "      <td>20</td>\n",
       "      <td>42.731552</td>\n",
       "      <td>0</td>\n",
       "      <td>Capomulin</td>\n",
       "      <td>Female</td>\n",
       "      <td>9</td>\n",
       "      <td>22</td>\n",
       "    </tr>\n",
       "  </tbody>\n",
       "</table>\n",
       "</div>"
      ],
      "text/plain": [
       "  Mouse ID  Timepoint  Tumor Volume (mm3)  Metastatic Sites Drug Regimen  \\\n",
       "0     b128          0           45.000000                 0    Capomulin   \n",
       "1     b128          5           45.651331                 0    Capomulin   \n",
       "2     b128         10           43.270852                 0    Capomulin   \n",
       "3     b128         15           43.784893                 0    Capomulin   \n",
       "4     b128         20           42.731552                 0    Capomulin   \n",
       "\n",
       "      Sex  Age_months  Weight (g)  \n",
       "0  Female           9          22  \n",
       "1  Female           9          22  \n",
       "2  Female           9          22  \n",
       "3  Female           9          22  \n",
       "4  Female           9          22  "
      ]
     },
     "execution_count": 354,
     "metadata": {},
     "output_type": "execute_result"
    }
   ],
   "source": [
    "# Combine the data into a single dataset\n",
    "mouse_study_df = pd.merge(study_results_df, mouse_metadata_df, on=['Mouse ID'])\n",
    "#copy_mouse_study = mouse_study_df\n",
    "mouse_study_df['Drug Regimen'].sort_values()\n",
    "mouse_study_df.head()\n"
   ]
  },
  {
   "cell_type": "code",
   "execution_count": 355,
   "id": "e3f72202",
   "metadata": {},
   "outputs": [
    {
     "data": {
      "text/plain": [
       "Mouse ID              1893\n",
       "Timepoint             1893\n",
       "Tumor Volume (mm3)    1893\n",
       "Metastatic Sites      1893\n",
       "Drug Regimen          1893\n",
       "Sex                   1893\n",
       "Age_months            1893\n",
       "Weight (g)            1893\n",
       "dtype: int64"
      ]
     },
     "execution_count": 355,
     "metadata": {},
     "output_type": "execute_result"
    }
   ],
   "source": [
    "mouse_study_df.count()"
   ]
  },
  {
   "cell_type": "code",
   "execution_count": 356,
   "id": "581fa968",
   "metadata": {},
   "outputs": [
    {
     "name": "stdout",
     "output_type": "stream",
     "text": [
      "249\n"
     ]
    }
   ],
   "source": [
    "#Display the number of unique mice IDs in the data, and then check for any mouse ID with duplicate time points.\n",
    "number_of_mice = len(mouse_study_df['Mouse ID'].unique())\n",
    "print(number_of_mice)\n"
   ]
  },
  {
   "cell_type": "code",
   "execution_count": 357,
   "id": "5bb00b83",
   "metadata": {},
   "outputs": [
    {
     "name": "stdout",
     "output_type": "stream",
     "text": [
      "['a203' 'a251' 'a262' 'a275' 'a366' 'a401' 'a411' 'a444' 'a457' 'a492'\n",
      " 'a520' 'a577' 'a644' 'a685' 'a699' 'a788' 'a818' 'a897' 'a963' 'b128'\n",
      " 'b313' 'b487' 'b559' 'b742' 'b759' 'b879' 'c139' 'c264' 'c282' 'c302'\n",
      " 'c326' 'c402' 'c458' 'c559' 'c580' 'c757' 'c758' 'c766' 'c819' 'c832'\n",
      " 'c895' 'c927' 'd164' 'd251' 'd474' 'e213' 'e227' 'e291' 'e476' 'e584'\n",
      " 'e662' 'f129' 'f234' 'f278' 'f345' 'f394' 'f436' 'f545' 'f966' 'f993'\n",
      " 'g107' 'g288' 'g296' 'g316' 'g497' 'g558' 'g570' 'g791' 'g867' 'g989'\n",
      " 'h246' 'h333' 'h531' 'i177' 'i334' 'i386' 'i477' 'i557' 'i635' 'i669'\n",
      " 'i738' 'i901' 'j119' 'j235' 'j246' 'j296' 'j365' 'j755' 'j913' 'j984'\n",
      " 'j989' 'k210' 'k382' 'k403' 'k483' 'k510' 'k603' 'k754' 'k804' 'k862'\n",
      " 'k894' 'l215' 'l264' 'l471' 'l490' 'l509' 'l558' 'l661' 'l700' 'l725'\n",
      " 'l733' 'l897' 'm133' 'm269' 'm331' 'm546' 'm550' 'm601' 'm650' 'm756'\n",
      " 'm957' 'n304' 'n364' 'n630' 'n671' 'n678' 'n763' 'n923' 'n967' 'o287'\n",
      " 'o302' 'o331' 'o523' 'o562' 'o725' 'o795' 'o809' 'o813' 'o926' 'o973'\n",
      " 'p136' 'p189' 'p310' 'p387' 'p438' 'p981' 'q119' 'q132' 'q483' 'q511'\n",
      " 'q582' 'q597' 'q610' 'q633' 'q787' 'r107' 'r157' 'r554' 'r604' 'r701'\n",
      " 'r811' 'r850' 'r921' 'r944' 's121' 's141' 's152' 's166' 's185' 's187'\n",
      " 's337' 's508' 's565' 's619' 's710' 't198' 't451' 't565' 't718' 't724'\n",
      " 't994' 'u149' 'u196' 'u327' 'u364' 'u946' 'v289' 'v295' 'v339' 'v409'\n",
      " 'v603' 'v719' 'v764' 'v766' 'v835' 'v923' 'v989' 'v991' 'w140' 'w150'\n",
      " 'w151' 'w167' 'w193' 'w350' 'w422' 'w540' 'w575' 'w584' 'w678' 'w697'\n",
      " 'w746' 'w914' 'x111' 'x209' 'x264' 'x401' 'x402' 'x581' 'x613' 'x773'\n",
      " 'x822' 'x930' 'y163' 'y260' 'y449' 'y478' 'y601' 'y769' 'y793' 'y865'\n",
      " 'z234' 'z314' 'z435' 'z578' 'z581' 'z795' 'z969']\n",
      "Length of duplicates 237\n"
     ]
    }
   ],
   "source": [
    "#Optional: Get all teh data for the duplicate mouse ID\n",
    "mouse_study_df2 = mouse_study_df[mouse_study_df.duplicated('Mouse ID')]\n",
    "#print(mouse_study_df2)\n",
    "\n",
    "mouse_duplicates_list = np.unique(mouse_study_df2['Mouse ID'])\n",
    "print(mouse_duplicates_list)\n",
    "print(f'Length of duplicates {len(mouse_duplicates_list)}')"
   ]
  },
  {
   "cell_type": "code",
   "execution_count": 358,
   "id": "aaaf8c13",
   "metadata": {},
   "outputs": [
    {
     "data": {
      "text/html": [
       "<div>\n",
       "<style scoped>\n",
       "    .dataframe tbody tr th:only-of-type {\n",
       "        vertical-align: middle;\n",
       "    }\n",
       "\n",
       "    .dataframe tbody tr th {\n",
       "        vertical-align: top;\n",
       "    }\n",
       "\n",
       "    .dataframe thead th {\n",
       "        text-align: right;\n",
       "    }\n",
       "</style>\n",
       "<table border=\"1\" class=\"dataframe\">\n",
       "  <thead>\n",
       "    <tr style=\"text-align: right;\">\n",
       "      <th></th>\n",
       "      <th>Mouse ID</th>\n",
       "      <th>Timepoint</th>\n",
       "      <th>Tumor Volume (mm3)</th>\n",
       "      <th>Metastatic Sites</th>\n",
       "      <th>Drug Regimen</th>\n",
       "      <th>Sex</th>\n",
       "      <th>Age_months</th>\n",
       "      <th>Weight (g)</th>\n",
       "    </tr>\n",
       "  </thead>\n",
       "  <tbody>\n",
       "    <tr>\n",
       "      <th>1</th>\n",
       "      <td>b128</td>\n",
       "      <td>5</td>\n",
       "      <td>45.651331</td>\n",
       "      <td>0</td>\n",
       "      <td>Capomulin</td>\n",
       "      <td>Female</td>\n",
       "      <td>9</td>\n",
       "      <td>22</td>\n",
       "    </tr>\n",
       "    <tr>\n",
       "      <th>2</th>\n",
       "      <td>b128</td>\n",
       "      <td>10</td>\n",
       "      <td>43.270852</td>\n",
       "      <td>0</td>\n",
       "      <td>Capomulin</td>\n",
       "      <td>Female</td>\n",
       "      <td>9</td>\n",
       "      <td>22</td>\n",
       "    </tr>\n",
       "    <tr>\n",
       "      <th>3</th>\n",
       "      <td>b128</td>\n",
       "      <td>15</td>\n",
       "      <td>43.784893</td>\n",
       "      <td>0</td>\n",
       "      <td>Capomulin</td>\n",
       "      <td>Female</td>\n",
       "      <td>9</td>\n",
       "      <td>22</td>\n",
       "    </tr>\n",
       "    <tr>\n",
       "      <th>4</th>\n",
       "      <td>b128</td>\n",
       "      <td>20</td>\n",
       "      <td>42.731552</td>\n",
       "      <td>0</td>\n",
       "      <td>Capomulin</td>\n",
       "      <td>Female</td>\n",
       "      <td>9</td>\n",
       "      <td>22</td>\n",
       "    </tr>\n",
       "    <tr>\n",
       "      <th>5</th>\n",
       "      <td>b128</td>\n",
       "      <td>25</td>\n",
       "      <td>43.262145</td>\n",
       "      <td>1</td>\n",
       "      <td>Capomulin</td>\n",
       "      <td>Female</td>\n",
       "      <td>9</td>\n",
       "      <td>22</td>\n",
       "    </tr>\n",
       "  </tbody>\n",
       "</table>\n",
       "</div>"
      ],
      "text/plain": [
       "  Mouse ID  Timepoint  Tumor Volume (mm3)  Metastatic Sites Drug Regimen  \\\n",
       "1     b128          5           45.651331                 0    Capomulin   \n",
       "2     b128         10           43.270852                 0    Capomulin   \n",
       "3     b128         15           43.784893                 0    Capomulin   \n",
       "4     b128         20           42.731552                 0    Capomulin   \n",
       "5     b128         25           43.262145                 1    Capomulin   \n",
       "\n",
       "      Sex  Age_months  Weight (g)  \n",
       "1  Female           9          22  \n",
       "2  Female           9          22  \n",
       "3  Female           9          22  \n",
       "4  Female           9          22  \n",
       "5  Female           9          22  "
      ]
     },
     "execution_count": 358,
     "metadata": {},
     "output_type": "execute_result"
    }
   ],
   "source": [
    "#Duplicated Mouse ID dataframe\n",
    "mouse_study_df2.head()"
   ]
  },
  {
   "cell_type": "code",
   "execution_count": 359,
   "id": "919e0333",
   "metadata": {},
   "outputs": [],
   "source": [
    "###FLAG WHat am I missing about the 248??\n",
    "\n",
    "#print(mouse_study_df2[\"Timepoint\"].describe())"
   ]
  },
  {
   "cell_type": "code",
   "execution_count": 360,
   "id": "a9c5676d",
   "metadata": {},
   "outputs": [
    {
     "name": "stdout",
     "output_type": "stream",
     "text": [
      "1644\n",
      "1407\n"
     ]
    }
   ],
   "source": [
    "#check to evaluate the numbers are the same.\n",
    "print(mouse_study_df['Mouse ID'].duplicated().sum())\n",
    "print(mouse_study_df2['Mouse ID'].duplicated().sum())"
   ]
  },
  {
   "cell_type": "code",
   "execution_count": 361,
   "id": "4e3f94f4",
   "metadata": {},
   "outputs": [
    {
     "name": "stdout",
     "output_type": "stream",
     "text": [
      "249\n"
     ]
    }
   ],
   "source": [
    "number_of_mice = len(mouse_study_df['Mouse ID'].unique())\n",
    "print(number_of_mice)\n",
    "\n",
    "#mouse_study_df2[[\"Sex\"]].describe()\n",
    "#mouse_study_df2[[\"Mouse ID\"]].describe()\n",
    "#mouse_study_df2[[\"Drug Regimen\"]].describe()"
   ]
  },
  {
   "cell_type": "code",
   "execution_count": 362,
   "id": "79299534",
   "metadata": {},
   "outputs": [
    {
     "data": {
      "text/html": [
       "<div>\n",
       "<style scoped>\n",
       "    .dataframe tbody tr th:only-of-type {\n",
       "        vertical-align: middle;\n",
       "    }\n",
       "\n",
       "    .dataframe tbody tr th {\n",
       "        vertical-align: top;\n",
       "    }\n",
       "\n",
       "    .dataframe thead th {\n",
       "        text-align: right;\n",
       "    }\n",
       "</style>\n",
       "<table border=\"1\" class=\"dataframe\">\n",
       "  <thead>\n",
       "    <tr style=\"text-align: right;\">\n",
       "      <th></th>\n",
       "      <th>Mouse ID</th>\n",
       "      <th>Timepoint</th>\n",
       "      <th>Tumor Volume (mm3)</th>\n",
       "      <th>Metastatic Sites</th>\n",
       "      <th>Drug Regimen</th>\n",
       "      <th>Sex</th>\n",
       "      <th>Age_months</th>\n",
       "      <th>Weight (g)</th>\n",
       "    </tr>\n",
       "  </thead>\n",
       "  <tbody>\n",
       "    <tr>\n",
       "      <th>0</th>\n",
       "      <td>b128</td>\n",
       "      <td>0</td>\n",
       "      <td>45.0</td>\n",
       "      <td>0</td>\n",
       "      <td>Capomulin</td>\n",
       "      <td>Female</td>\n",
       "      <td>9</td>\n",
       "      <td>22</td>\n",
       "    </tr>\n",
       "    <tr>\n",
       "      <th>10</th>\n",
       "      <td>f932</td>\n",
       "      <td>0</td>\n",
       "      <td>45.0</td>\n",
       "      <td>0</td>\n",
       "      <td>Ketapril</td>\n",
       "      <td>Male</td>\n",
       "      <td>15</td>\n",
       "      <td>29</td>\n",
       "    </tr>\n",
       "    <tr>\n",
       "      <th>11</th>\n",
       "      <td>g107</td>\n",
       "      <td>0</td>\n",
       "      <td>45.0</td>\n",
       "      <td>0</td>\n",
       "      <td>Ketapril</td>\n",
       "      <td>Female</td>\n",
       "      <td>2</td>\n",
       "      <td>29</td>\n",
       "    </tr>\n",
       "    <tr>\n",
       "      <th>19</th>\n",
       "      <td>a457</td>\n",
       "      <td>0</td>\n",
       "      <td>45.0</td>\n",
       "      <td>0</td>\n",
       "      <td>Ketapril</td>\n",
       "      <td>Female</td>\n",
       "      <td>11</td>\n",
       "      <td>30</td>\n",
       "    </tr>\n",
       "    <tr>\n",
       "      <th>22</th>\n",
       "      <td>c819</td>\n",
       "      <td>0</td>\n",
       "      <td>45.0</td>\n",
       "      <td>0</td>\n",
       "      <td>Ketapril</td>\n",
       "      <td>Male</td>\n",
       "      <td>21</td>\n",
       "      <td>25</td>\n",
       "    </tr>\n",
       "  </tbody>\n",
       "</table>\n",
       "</div>"
      ],
      "text/plain": [
       "   Mouse ID  Timepoint  Tumor Volume (mm3)  Metastatic Sites Drug Regimen  \\\n",
       "0      b128          0                45.0                 0    Capomulin   \n",
       "10     f932          0                45.0                 0     Ketapril   \n",
       "11     g107          0                45.0                 0     Ketapril   \n",
       "19     a457          0                45.0                 0     Ketapril   \n",
       "22     c819          0                45.0                 0     Ketapril   \n",
       "\n",
       "       Sex  Age_months  Weight (g)  \n",
       "0   Female           9          22  \n",
       "10    Male          15          29  \n",
       "11  Female           2          29  \n",
       "19  Female          11          30  \n",
       "22    Male          21          25  "
      ]
     },
     "execution_count": 362,
     "metadata": {},
     "output_type": "execute_result"
    }
   ],
   "source": [
    "#drop the duplicates\n",
    "mouse_study_clean_df = pd.DataFrame()\n",
    "mouse_study_clean_df = mouse_study_df.drop_duplicates(\"Mouse ID\", keep=\"first\",inplace=False)\n",
    "mouse_study_clean_df.head()"
   ]
  },
  {
   "cell_type": "markdown",
   "id": "2078a67f",
   "metadata": {},
   "source": [
    "# FLAG--- should be 248"
   ]
  },
  {
   "cell_type": "code",
   "execution_count": 363,
   "id": "94e714ee",
   "metadata": {},
   "outputs": [
    {
     "data": {
      "text/plain": [
       "Mouse ID              249\n",
       "Timepoint             249\n",
       "Tumor Volume (mm3)    249\n",
       "Metastatic Sites      249\n",
       "Drug Regimen          249\n",
       "Sex                   249\n",
       "Age_months            249\n",
       "Weight (g)            249\n",
       "dtype: int64"
      ]
     },
     "execution_count": 363,
     "metadata": {},
     "output_type": "execute_result"
    }
   ],
   "source": [
    "mouse_study_clean_df.count()\n"
   ]
  },
  {
   "cell_type": "markdown",
   "id": "605633f6",
   "metadata": {},
   "source": [
    "### Summary Statistics\n"
   ]
  },
  {
   "cell_type": "code",
   "execution_count": 364,
   "id": "4074c0ee",
   "metadata": {},
   "outputs": [],
   "source": [
    "#mouse_study_df[[\"Tumor Volume (mm3)\"]].describe()"
   ]
  },
  {
   "cell_type": "code",
   "execution_count": 365,
   "id": "5f40a013",
   "metadata": {},
   "outputs": [
    {
     "data": {
      "text/html": [
       "<div>\n",
       "<style scoped>\n",
       "    .dataframe tbody tr th:only-of-type {\n",
       "        vertical-align: middle;\n",
       "    }\n",
       "\n",
       "    .dataframe tbody tr th {\n",
       "        vertical-align: top;\n",
       "    }\n",
       "\n",
       "    .dataframe thead th {\n",
       "        text-align: right;\n",
       "    }\n",
       "</style>\n",
       "<table border=\"1\" class=\"dataframe\">\n",
       "  <thead>\n",
       "    <tr style=\"text-align: right;\">\n",
       "      <th></th>\n",
       "      <th>Mean Tumor Volume(mm3)</th>\n",
       "      <th>Median Tumor Volume(mm3)</th>\n",
       "      <th>Tumor Volume(mm3) Std. Dev.</th>\n",
       "      <th>Tumor Volume(mm3) Std. Err</th>\n",
       "    </tr>\n",
       "    <tr>\n",
       "      <th>Drug Regimen</th>\n",
       "      <th></th>\n",
       "      <th></th>\n",
       "      <th></th>\n",
       "      <th></th>\n",
       "    </tr>\n",
       "  </thead>\n",
       "  <tbody>\n",
       "    <tr>\n",
       "      <th>Capomulin</th>\n",
       "      <td>40.675741</td>\n",
       "      <td>41.557809</td>\n",
       "      <td>4.994774</td>\n",
       "      <td>0.329346</td>\n",
       "    </tr>\n",
       "    <tr>\n",
       "      <th>Ceftamin</th>\n",
       "      <td>52.591172</td>\n",
       "      <td>51.776157</td>\n",
       "      <td>6.268188</td>\n",
       "      <td>0.469821</td>\n",
       "    </tr>\n",
       "    <tr>\n",
       "      <th>Infubinol</th>\n",
       "      <td>52.884795</td>\n",
       "      <td>51.820584</td>\n",
       "      <td>6.567243</td>\n",
       "      <td>0.492236</td>\n",
       "    </tr>\n",
       "    <tr>\n",
       "      <th>Ketapril</th>\n",
       "      <td>55.235638</td>\n",
       "      <td>53.698743</td>\n",
       "      <td>8.279709</td>\n",
       "      <td>0.603860</td>\n",
       "    </tr>\n",
       "    <tr>\n",
       "      <th>Naftisol</th>\n",
       "      <td>54.331565</td>\n",
       "      <td>52.509285</td>\n",
       "      <td>8.134708</td>\n",
       "      <td>0.596466</td>\n",
       "    </tr>\n",
       "    <tr>\n",
       "      <th>Placebo</th>\n",
       "      <td>54.033581</td>\n",
       "      <td>52.288934</td>\n",
       "      <td>7.821003</td>\n",
       "      <td>0.581331</td>\n",
       "    </tr>\n",
       "    <tr>\n",
       "      <th>Propriva</th>\n",
       "      <td>52.322552</td>\n",
       "      <td>50.854632</td>\n",
       "      <td>6.507770</td>\n",
       "      <td>0.512884</td>\n",
       "    </tr>\n",
       "    <tr>\n",
       "      <th>Ramicane</th>\n",
       "      <td>40.216745</td>\n",
       "      <td>40.673236</td>\n",
       "      <td>4.846308</td>\n",
       "      <td>0.320955</td>\n",
       "    </tr>\n",
       "    <tr>\n",
       "      <th>Stelasyn</th>\n",
       "      <td>54.233149</td>\n",
       "      <td>52.431737</td>\n",
       "      <td>7.710419</td>\n",
       "      <td>0.573111</td>\n",
       "    </tr>\n",
       "    <tr>\n",
       "      <th>Zoniferol</th>\n",
       "      <td>53.236507</td>\n",
       "      <td>51.818479</td>\n",
       "      <td>6.966589</td>\n",
       "      <td>0.516398</td>\n",
       "    </tr>\n",
       "  </tbody>\n",
       "</table>\n",
       "</div>"
      ],
      "text/plain": [
       "              Mean Tumor Volume(mm3)  Median Tumor Volume(mm3)  \\\n",
       "Drug Regimen                                                     \n",
       "Capomulin                  40.675741                 41.557809   \n",
       "Ceftamin                   52.591172                 51.776157   \n",
       "Infubinol                  52.884795                 51.820584   \n",
       "Ketapril                   55.235638                 53.698743   \n",
       "Naftisol                   54.331565                 52.509285   \n",
       "Placebo                    54.033581                 52.288934   \n",
       "Propriva                   52.322552                 50.854632   \n",
       "Ramicane                   40.216745                 40.673236   \n",
       "Stelasyn                   54.233149                 52.431737   \n",
       "Zoniferol                  53.236507                 51.818479   \n",
       "\n",
       "              Tumor Volume(mm3) Std. Dev.  Tumor Volume(mm3) Std. Err  \n",
       "Drug Regimen                                                           \n",
       "Capomulin                        4.994774                    0.329346  \n",
       "Ceftamin                         6.268188                    0.469821  \n",
       "Infubinol                        6.567243                    0.492236  \n",
       "Ketapril                         8.279709                    0.603860  \n",
       "Naftisol                         8.134708                    0.596466  \n",
       "Placebo                          7.821003                    0.581331  \n",
       "Propriva                         6.507770                    0.512884  \n",
       "Ramicane                         4.846308                    0.320955  \n",
       "Stelasyn                         7.710419                    0.573111  \n",
       "Zoniferol                        6.966589                    0.516398  "
      ]
     },
     "execution_count": 365,
     "metadata": {},
     "output_type": "execute_result"
    }
   ],
   "source": [
    "#Generate a summary statistics table of mean, median, variance, standard deviation, and SEM of the tumor volume for each regimen\n",
    "mouse_study_stats_df = pd.DataFrame()\n",
    "mouse_study_stats_df.sort_index(axis=1,ascending=True)\n",
    "\n",
    "#Use groupby and summary statistical methods to calculate the following properties of each drug regimen:\n",
    "#drug_regimen = mouse_study_df2.groupby(['Drug Regimen'])\n",
    "mean_tumor_regimen = mouse_study_df.groupby('Drug Regimen')['Tumor Volume (mm3)'].mean()\n",
    "median_tumor_volume = mouse_study_df.groupby('Drug Regimen')['Tumor Volume (mm3)'].median()\n",
    "tumor_volume__stddev = mouse_study_df.groupby('Drug Regimen')['Tumor Volume (mm3)'].std()\n",
    "tumor_volume_stderr = mouse_study_df.groupby(['Drug Regimen'])['Tumor Volume (mm3)'].sem()\n",
    "\n",
    "#print(drug_regimen)\n",
    "#mouse_study_stats_df['Drug Regimen'] = [drug_regimen]\n",
    "mouse_study_stats_df['Mean Tumor Volume(mm3)'] = mean_tumor_regimen\n",
    "mouse_study_stats_df['Median Tumor Volume(mm3)'] = median_tumor_volume\n",
    "mouse_study_stats_df['Tumor Volume(mm3) Std. Dev.'] = tumor_volume__stddev\n",
    "mouse_study_stats_df['Tumor Volume(mm3) Std. Err'] = tumor_volume_stderr\n",
    "\n",
    "#Assemble the resulting series into a single summary DataFrame.\n",
    "\n",
    "mouse_study_stats_df.head(20)\n",
    "#mean_tumor_regimen"
   ]
  },
  {
   "cell_type": "code",
   "execution_count": 366,
   "id": "44e1501a",
   "metadata": {},
   "outputs": [
    {
     "data": {
      "text/html": [
       "<div>\n",
       "<style scoped>\n",
       "    .dataframe tbody tr th:only-of-type {\n",
       "        vertical-align: middle;\n",
       "    }\n",
       "\n",
       "    .dataframe tbody tr th {\n",
       "        vertical-align: top;\n",
       "    }\n",
       "\n",
       "    .dataframe thead tr th {\n",
       "        text-align: left;\n",
       "    }\n",
       "\n",
       "    .dataframe thead tr:last-of-type th {\n",
       "        text-align: right;\n",
       "    }\n",
       "</style>\n",
       "<table border=\"1\" class=\"dataframe\">\n",
       "  <thead>\n",
       "    <tr>\n",
       "      <th></th>\n",
       "      <th colspan=\"4\" halign=\"left\">Tumor Volume (mm3)</th>\n",
       "    </tr>\n",
       "    <tr>\n",
       "      <th></th>\n",
       "      <th>mean</th>\n",
       "      <th>median</th>\n",
       "      <th>std</th>\n",
       "      <th>sem</th>\n",
       "    </tr>\n",
       "    <tr>\n",
       "      <th>Drug Regimen</th>\n",
       "      <th></th>\n",
       "      <th></th>\n",
       "      <th></th>\n",
       "      <th></th>\n",
       "    </tr>\n",
       "  </thead>\n",
       "  <tbody>\n",
       "    <tr>\n",
       "      <th>Capomulin</th>\n",
       "      <td>40.148392</td>\n",
       "      <td>40.716428</td>\n",
       "      <td>5.043219</td>\n",
       "      <td>0.352234</td>\n",
       "    </tr>\n",
       "    <tr>\n",
       "      <th>Ceftamin</th>\n",
       "      <td>53.831559</td>\n",
       "      <td>52.847559</td>\n",
       "      <td>5.892856</td>\n",
       "      <td>0.476409</td>\n",
       "    </tr>\n",
       "    <tr>\n",
       "      <th>Infubinol</th>\n",
       "      <td>54.173160</td>\n",
       "      <td>53.244458</td>\n",
       "      <td>6.190806</td>\n",
       "      <td>0.500497</td>\n",
       "    </tr>\n",
       "    <tr>\n",
       "      <th>Ketapril</th>\n",
       "      <td>56.805521</td>\n",
       "      <td>56.098998</td>\n",
       "      <td>7.777219</td>\n",
       "      <td>0.609159</td>\n",
       "    </tr>\n",
       "    <tr>\n",
       "      <th>Naftisol</th>\n",
       "      <td>55.780565</td>\n",
       "      <td>54.234502</td>\n",
       "      <td>7.797077</td>\n",
       "      <td>0.614496</td>\n",
       "    </tr>\n",
       "  </tbody>\n",
       "</table>\n",
       "</div>"
      ],
      "text/plain": [
       "             Tumor Volume (mm3)                               \n",
       "                           mean     median       std       sem\n",
       "Drug Regimen                                                  \n",
       "Capomulin             40.148392  40.716428  5.043219  0.352234\n",
       "Ceftamin              53.831559  52.847559  5.892856  0.476409\n",
       "Infubinol             54.173160  53.244458  6.190806  0.500497\n",
       "Ketapril              56.805521  56.098998  7.777219  0.609159\n",
       "Naftisol              55.780565  54.234502  7.797077  0.614496"
      ]
     },
     "execution_count": 366,
     "metadata": {},
     "output_type": "execute_result"
    }
   ],
   "source": [
    "mouse_study_grouped_single = mouse_study_df2.groupby('Drug Regimen').agg({'Tumor Volume (mm3)': ['mean', 'median', 'std','sem']})\n",
    "mouse_study_grouped_single.head()\n"
   ]
  },
  {
   "cell_type": "markdown",
   "id": "17b47683",
   "metadata": {},
   "source": [
    "### Bar and Pie Charts\n"
   ]
  },
  {
   "cell_type": "code",
   "execution_count": 367,
   "id": "6ec02c55",
   "metadata": {},
   "outputs": [
    {
     "data": {
      "text/plain": [
       "Text(0, 0.5, 'Number of Mice Tested')"
      ]
     },
     "execution_count": 367,
     "metadata": {},
     "output_type": "execute_result"
    },
    {
     "data": {
      "image/png": "[encoded data removed]",
      "text/plain": [
       "<Figure size 576x504 with 1 Axes>"
      ]
     },
     "metadata": {
      "needs_background": "light"
     },
     "output_type": "display_data"
    }
   ],
   "source": [
    "#Create the first bar chart with the Pandas DataFrame.plot() method\n",
    "# Generate a bar plot showing the total number of timepoints for all mice tested for each drug regimen using Pandas.\n",
    "timepoints = mouse_study_df.groupby(['Drug Regimen'])['Timepoint'].count()\n",
    "\n",
    "timepoint_chart = timepoints.plot(kind='bar',figsize=(8,7))\n",
    "timepoint_chart.set_xlabel(\"Drug Regimen\")\n",
    "timepoint_chart.set_ylabel('Number of Mice Tested')\n"
   ]
  },
  {
   "cell_type": "code",
   "execution_count": 368,
   "id": "4803a0eb",
   "metadata": {},
   "outputs": [
    {
     "data": {
      "image/png": "[encoded data removed]",
      "text/plain": [
       "<Figure size 432x288 with 1 Axes>"
      ]
     },
     "metadata": {
      "needs_background": "light"
     },
     "output_type": "display_data"
    }
   ],
   "source": [
    "#Create the second bar chart with Matplotlib's pyplot methods.\n",
    "#plt.bar(timepoints)\n",
    "#print(type(timepoints))\n",
    "x = timepoints.index.get_level_values(0)\n",
    "y = np.array(timepoints)\n",
    "#print(y)\n",
    "\n",
    "plt.bar(x,y,align='center')\n",
    "plt.xticks(rotation=90)\n",
    "plt.xlabel('Drug Regimen')\n",
    "plt.ylabel('Number of Mice Tested')\n",
    "plt.show()\n"
   ]
  },
  {
   "cell_type": "markdown",
   "id": "50955e6a",
   "metadata": {},
   "source": [
    "# Pie Chart- Flag- off numbers"
   ]
  },
  {
   "cell_type": "code",
   "execution_count": 369,
   "id": "9d05f6f4",
   "metadata": {},
   "outputs": [
    {
     "data": {
      "image/png": "[encoded data removed]",
      "text/plain": [
       "<Figure size 432x288 with 1 Axes>"
      ]
     },
     "metadata": {},
     "output_type": "display_data"
    }
   ],
   "source": [
    "# Generate a pie plot showing the distribution of female versus male mice using Pandas\n",
    "# Creating plot Using Pandas\n",
    "\n",
    "#labels = [\"Male\", \"Female\"]\n",
    "gender_data = (mouse_study_df[\"Sex\"].value_counts()/len(mouse_study_df)*100)\n",
    "gender_data = gender_data.round(0)\n",
    "\n",
    "# creating dataframe\n",
    "gender = gender_data.plot(kind='pie',autopct='%.1f%%',labels=[\"Male\", \"Female\"],title='Gender')\n",
    "plt.show()"
   ]
  },
  {
   "cell_type": "code",
   "execution_count": 370,
   "id": "8b72d3eb",
   "metadata": {},
   "outputs": [
    {
     "data": {
      "image/png": "[encoded data removed]",
      "text/plain": [
       "<Figure size 432x288 with 1 Axes>"
      ]
     },
     "metadata": {},
     "output_type": "display_data"
    }
   ],
   "source": [
    "#Pie Chart using Matplotlib\n",
    "\n",
    "# Creating dataset\n",
    "gender = ['Male', 'Female']\n",
    "#x= gender_data.index.get_level_values(0)\n",
    " \n",
    "y = np.array(gender_data)\n",
    "\n",
    "# Creating plot\n",
    "plt.pie(y, labels=gender, autopct='%1.1f%%')\n",
    "plt.title('Gender',pad=32,loc='left')\n",
    "plt.axis('equal')\n",
    "plt.show()"
   ]
  },
  {
   "cell_type": "markdown",
   "id": "b261567f",
   "metadata": {},
   "source": [
    "### Quartiles, Outliers, and Boxplots\n",
    "\n",
    "#Calculate the final tumor volume of each mouse across four of the treatment regimens:  \n",
    "#Capomulin, Ramicane, Infubinol, and Ceftamin\n",
    "#Start by getting the last (greatest) timepoint for each mouse\n",
    "#Merge this group df with the original DataFrame to get the tumor volume at the last timepoint\n"
   ]
  },
  {
   "cell_type": "code",
   "execution_count": 377,
   "id": "cceff377",
   "metadata": {},
   "outputs": [
    {
     "data": {
      "text/html": [
       "<div>\n",
       "<style scoped>\n",
       "    .dataframe tbody tr th:only-of-type {\n",
       "        vertical-align: middle;\n",
       "    }\n",
       "\n",
       "    .dataframe tbody tr th {\n",
       "        vertical-align: top;\n",
       "    }\n",
       "\n",
       "    .dataframe thead th {\n",
       "        text-align: right;\n",
       "    }\n",
       "</style>\n",
       "<table border=\"1\" class=\"dataframe\">\n",
       "  <thead>\n",
       "    <tr style=\"text-align: right;\">\n",
       "      <th></th>\n",
       "      <th>Final Tumor Volume</th>\n",
       "    </tr>\n",
       "    <tr>\n",
       "      <th>Drug Regimen</th>\n",
       "      <th></th>\n",
       "    </tr>\n",
       "  </thead>\n",
       "  <tbody>\n",
       "    <tr>\n",
       "      <th>Capomulin</th>\n",
       "      <td>38.982878</td>\n",
       "    </tr>\n",
       "    <tr>\n",
       "      <th>Capomulin</th>\n",
       "      <td>23.343598</td>\n",
       "    </tr>\n",
       "    <tr>\n",
       "      <th>Capomulin</th>\n",
       "      <td>38.939633</td>\n",
       "    </tr>\n",
       "    <tr>\n",
       "      <th>Capomulin</th>\n",
       "      <td>28.484033</td>\n",
       "    </tr>\n",
       "    <tr>\n",
       "      <th>Capomulin</th>\n",
       "      <td>41.483008</td>\n",
       "    </tr>\n",
       "    <tr>\n",
       "      <th>Capomulin</th>\n",
       "      <td>40.728578</td>\n",
       "    </tr>\n",
       "    <tr>\n",
       "      <th>Capomulin</th>\n",
       "      <td>31.023923</td>\n",
       "    </tr>\n",
       "    <tr>\n",
       "      <th>Capomulin</th>\n",
       "      <td>38.125164</td>\n",
       "    </tr>\n",
       "    <tr>\n",
       "      <th>Capomulin</th>\n",
       "      <td>40.658124</td>\n",
       "    </tr>\n",
       "    <tr>\n",
       "      <th>Capomulin</th>\n",
       "      <td>36.041047</td>\n",
       "    </tr>\n",
       "    <tr>\n",
       "      <th>Capomulin</th>\n",
       "      <td>37.311846</td>\n",
       "    </tr>\n",
       "    <tr>\n",
       "      <th>Capomulin</th>\n",
       "      <td>41.581521</td>\n",
       "    </tr>\n",
       "    <tr>\n",
       "      <th>Capomulin</th>\n",
       "      <td>31.896238</td>\n",
       "    </tr>\n",
       "    <tr>\n",
       "      <th>Capomulin</th>\n",
       "      <td>40.159220</td>\n",
       "    </tr>\n",
       "    <tr>\n",
       "      <th>Capomulin</th>\n",
       "      <td>37.074024</td>\n",
       "    </tr>\n",
       "    <tr>\n",
       "      <th>Capomulin</th>\n",
       "      <td>38.846876</td>\n",
       "    </tr>\n",
       "    <tr>\n",
       "      <th>Capomulin</th>\n",
       "      <td>34.455298</td>\n",
       "    </tr>\n",
       "    <tr>\n",
       "      <th>Capomulin</th>\n",
       "      <td>47.685963</td>\n",
       "    </tr>\n",
       "    <tr>\n",
       "      <th>Capomulin</th>\n",
       "      <td>32.377357</td>\n",
       "    </tr>\n",
       "    <tr>\n",
       "      <th>Capomulin</th>\n",
       "      <td>33.329098</td>\n",
       "    </tr>\n",
       "    <tr>\n",
       "      <th>Capomulin</th>\n",
       "      <td>28.430964</td>\n",
       "    </tr>\n",
       "    <tr>\n",
       "      <th>Ceftamin</th>\n",
       "      <td>59.851956</td>\n",
       "    </tr>\n",
       "    <tr>\n",
       "      <th>Ceftamin</th>\n",
       "      <td>68.923185</td>\n",
       "    </tr>\n",
       "    <tr>\n",
       "      <th>Ceftamin</th>\n",
       "      <td>61.433892</td>\n",
       "    </tr>\n",
       "    <tr>\n",
       "      <th>Ceftamin</th>\n",
       "      <td>59.741901</td>\n",
       "    </tr>\n",
       "    <tr>\n",
       "      <th>Ceftamin</th>\n",
       "      <td>67.527482</td>\n",
       "    </tr>\n",
       "    <tr>\n",
       "      <th>Ceftamin</th>\n",
       "      <td>61.849023</td>\n",
       "    </tr>\n",
       "    <tr>\n",
       "      <th>Ceftamin</th>\n",
       "      <td>68.594745</td>\n",
       "    </tr>\n",
       "    <tr>\n",
       "      <th>Ceftamin</th>\n",
       "      <td>62.999356</td>\n",
       "    </tr>\n",
       "    <tr>\n",
       "      <th>Ceftamin</th>\n",
       "      <td>64.729837</td>\n",
       "    </tr>\n",
       "    <tr>\n",
       "      <th>Ceftamin</th>\n",
       "      <td>64.299830</td>\n",
       "    </tr>\n",
       "    <tr>\n",
       "      <th>Ceftamin</th>\n",
       "      <td>61.386660</td>\n",
       "    </tr>\n",
       "    <tr>\n",
       "      <th>Ceftamin</th>\n",
       "      <td>67.748662</td>\n",
       "    </tr>\n",
       "    <tr>\n",
       "      <th>Ceftamin</th>\n",
       "      <td>64.634949</td>\n",
       "    </tr>\n",
       "    <tr>\n",
       "      <th>Infubinol</th>\n",
       "      <td>65.525743</td>\n",
       "    </tr>\n",
       "    <tr>\n",
       "      <th>Infubinol</th>\n",
       "      <td>62.754451</td>\n",
       "    </tr>\n",
       "    <tr>\n",
       "      <th>Infubinol</th>\n",
       "      <td>66.196912</td>\n",
       "    </tr>\n",
       "    <tr>\n",
       "      <th>Infubinol</th>\n",
       "      <td>67.685569</td>\n",
       "    </tr>\n",
       "    <tr>\n",
       "      <th>Infubinol</th>\n",
       "      <td>72.226731</td>\n",
       "    </tr>\n",
       "    <tr>\n",
       "      <th>Infubinol</th>\n",
       "      <td>60.918767</td>\n",
       "    </tr>\n",
       "  </tbody>\n",
       "</table>\n",
       "</div>"
      ],
      "text/plain": [
       "              Final Tumor Volume\n",
       "Drug Regimen                    \n",
       "Capomulin              38.982878\n",
       "Capomulin              23.343598\n",
       "Capomulin              38.939633\n",
       "Capomulin              28.484033\n",
       "Capomulin              41.483008\n",
       "Capomulin              40.728578\n",
       "Capomulin              31.023923\n",
       "Capomulin              38.125164\n",
       "Capomulin              40.658124\n",
       "Capomulin              36.041047\n",
       "Capomulin              37.311846\n",
       "Capomulin              41.581521\n",
       "Capomulin              31.896238\n",
       "Capomulin              40.159220\n",
       "Capomulin              37.074024\n",
       "Capomulin              38.846876\n",
       "Capomulin              34.455298\n",
       "Capomulin              47.685963\n",
       "Capomulin              32.377357\n",
       "Capomulin              33.329098\n",
       "Capomulin              28.430964\n",
       "Ceftamin               59.851956\n",
       "Ceftamin               68.923185\n",
       "Ceftamin               61.433892\n",
       "Ceftamin               59.741901\n",
       "Ceftamin               67.527482\n",
       "Ceftamin               61.849023\n",
       "Ceftamin               68.594745\n",
       "Ceftamin               62.999356\n",
       "Ceftamin               64.729837\n",
       "Ceftamin               64.299830\n",
       "Ceftamin               61.386660\n",
       "Ceftamin               67.748662\n",
       "Ceftamin               64.634949\n",
       "Infubinol              65.525743\n",
       "Infubinol              62.754451\n",
       "Infubinol              66.196912\n",
       "Infubinol              67.685569\n",
       "Infubinol              72.226731\n",
       "Infubinol              60.918767"
      ]
     },
     "execution_count": 377,
     "metadata": {},
     "output_type": "execute_result"
    }
   ],
   "source": [
    "#Calculate the final tumor volume of each mouse across four of the Drug Regimens\n",
    "\n",
    "# Put treatments into a list for for loop (and later for plot labels)\n",
    "drugs = [\"Capomulin\", \"Ramicane\", \"Infubinol\", \"Ceftamin\"]\n",
    "\n",
    "#drug_tumorvol_df= pd.DataFrame()\n",
    "df = mouse_study_df[mouse_study_df[\"Drug Regimen\"].isin(drugs)]\n",
    "df = df.drop(columns = ['Mouse ID','Metastatic Sites','Sex','Age_months'])\n",
    "df = df.set_index('Drug Regimen')\n",
    "\n",
    "# Get the last(greatest)timepoint for each mouse\n",
    "max_timepoint = df['Timepoint']\n",
    "#print(max_timepoint.max())\n",
    "\n",
    "\n",
    "# Merge this group df with the original DataFrame to get the tumor volume at the last timepoint\n",
    "df2 = pd.DataFrame()\n",
    "df2['Final Tumor Volume']=df[df['Timepoint']==max_timepoint.max()]['Tumor Volume (mm3)']\n",
    "# Sort by drug column \n",
    "df2 = df2.sort_values(['Drug Regimen'],ascending = [True])\n",
    "df2.head(40)\n",
    "\n"
   ]
  },
  {
   "cell_type": "code",
   "execution_count": 372,
   "id": "c09e3622",
   "metadata": {},
   "outputs": [
    {
     "name": "stdout",
     "output_type": "stream",
     "text": [
      "[38.98287774, 23.34359787, 38.93963263, 28.48403281, 41.48300765, 40.72857787, 31.02392294, 38.1251644, 40.65812366, 36.04104736, 37.31184577, 41.58152074, 31.8962384, 40.1592203, 37.07402422, 38.84687569, 34.45529799, 47.68596303, 32.37735684, 33.32909778, 28.43096411, 59.85195552, 68.92318457, 61.43389223, 59.74190064, 67.52748237, 61.84902336, 68.59474498, 62.99935619, 64.72983655, 64.29983003, 61.38666032, 67.74866174, 64.63494887, 65.52574285, 62.75445141, 66.19691151, 67.68556862, 72.2267309, 60.91876652, 66.08306589, 67.97341878, 62.43540402, 40.65900627, 30.63869575, 45.22086888, 30.56462509, 31.56046955, 38.4076183, 43.0475426, 37.31123552, 36.13485243, 33.39765251, 37.22565033, 32.97852192, 33.56240217, 29.12847181, 38.81036633, 40.66771292, 36.37451039, 31.09533505, 22.05012627, 30.27623175]\n"
     ]
    }
   ],
   "source": [
    "#Create a list that holds the treatment names as well as a second, empty list to hold the tumor volume data.\n",
    "\n",
    "treatment_names = drugs\n",
    "tumor_volume_data = list(df2[\"Final Tumor Volume\"])\n",
    "\n",
    "print(tumor_volume_data)\n",
    "#print(drugs)"
   ]
  },
  {
   "cell_type": "code",
   "execution_count": 373,
   "id": "fea14e74",
   "metadata": {},
   "outputs": [
    {
     "name": "stdout",
     "output_type": "stream",
     "text": [
      "28.66218635\n"
     ]
    }
   ],
   "source": [
    "# Calculate the IQR and quantitatively determine if there are any potential outliers. \n",
    "#calculate interquartile range from a list\n",
    "q3_l, q1_l = np.percentile(tumor_volume_data, [75 ,25])\n",
    "iqr_l = q3_l - q1_l\n",
    "print(iqr_l)"
   ]
  },
  {
   "cell_type": "code",
   "execution_count": 374,
   "id": "7b72ae6b",
   "metadata": {},
   "outputs": [
    {
     "data": {
      "text/plain": [
       "28.66218635"
      ]
     },
     "execution_count": 374,
     "metadata": {},
     "output_type": "execute_result"
    }
   ],
   "source": [
    "#calculate interquartile range of values in the 'points' column\n",
    "q75_a, q25_a = np.percentile(df2['Final Tumor Volume'], [75 ,25])\n",
    "iqr_a = q75_a - q25_a\n",
    "\n",
    "#display interquartile range \n",
    "iqr_a"
   ]
  },
  {
   "cell_type": "code",
   "execution_count": null,
   "id": "f20ee20e",
   "metadata": {},
   "outputs": [],
   "source": [
    "\n",
    "    \n"
   ]
  },
  {
   "cell_type": "code",
   "execution_count": null,
   "id": "686ee7b4",
   "metadata": {},
   "outputs": [],
   "source": [
    "  "
   ]
  },
  {
   "cell_type": "code",
   "execution_count": null,
   "id": "baea1af9",
   "metadata": {},
   "outputs": [],
   "source": [
    "#Determine outliers by using the upper and lower bounds, and then print the results.\n",
    "#https://medium.datadriveninvestor.com/finding-outliers-in-dataset-using-python-efc3fce6ce32\n"
   ]
  },
  {
   "cell_type": "markdown",
   "id": "32979d33",
   "metadata": {},
   "source": [
    "Use Matplotlib, generate a box plot that shows the distribution of the final tumor volume for all the mice in each treatment group. Highlight any potential outliers in the plot by changing their color and style."
   ]
  },
  {
   "cell_type": "markdown",
   "id": "c59ad7a8",
   "metadata": {},
   "source": [
    "### Line and Scatter Plots"
   ]
  },
  {
   "cell_type": "code",
   "execution_count": 345,
   "id": "53f555b9",
   "metadata": {},
   "outputs": [
    {
     "data": {
      "text/html": [
       "<div>\n",
       "<style scoped>\n",
       "    .dataframe tbody tr th:only-of-type {\n",
       "        vertical-align: middle;\n",
       "    }\n",
       "\n",
       "    .dataframe tbody tr th {\n",
       "        vertical-align: top;\n",
       "    }\n",
       "\n",
       "    .dataframe thead th {\n",
       "        text-align: right;\n",
       "    }\n",
       "</style>\n",
       "<table border=\"1\" class=\"dataframe\">\n",
       "  <thead>\n",
       "    <tr style=\"text-align: right;\">\n",
       "      <th></th>\n",
       "      <th>Timepoint</th>\n",
       "      <th>Tumor Volume (mm3)</th>\n",
       "    </tr>\n",
       "    <tr>\n",
       "      <th>Drug Regimen</th>\n",
       "      <th></th>\n",
       "      <th></th>\n",
       "    </tr>\n",
       "  </thead>\n",
       "  <tbody>\n",
       "    <tr>\n",
       "      <th>Capomulin</th>\n",
       "      <td>0</td>\n",
       "      <td>45.000000</td>\n",
       "    </tr>\n",
       "    <tr>\n",
       "      <th>Capomulin</th>\n",
       "      <td>5</td>\n",
       "      <td>45.651331</td>\n",
       "    </tr>\n",
       "    <tr>\n",
       "      <th>Capomulin</th>\n",
       "      <td>10</td>\n",
       "      <td>43.270852</td>\n",
       "    </tr>\n",
       "    <tr>\n",
       "      <th>Capomulin</th>\n",
       "      <td>15</td>\n",
       "      <td>43.784893</td>\n",
       "    </tr>\n",
       "    <tr>\n",
       "      <th>Capomulin</th>\n",
       "      <td>20</td>\n",
       "      <td>42.731552</td>\n",
       "    </tr>\n",
       "  </tbody>\n",
       "</table>\n",
       "</div>"
      ],
      "text/plain": [
       "              Timepoint  Tumor Volume (mm3)\n",
       "Drug Regimen                               \n",
       "Capomulin             0           45.000000\n",
       "Capomulin             5           45.651331\n",
       "Capomulin            10           43.270852\n",
       "Capomulin            15           43.784893\n",
       "Capomulin            20           42.731552"
      ]
     },
     "execution_count": 345,
     "metadata": {},
     "output_type": "execute_result"
    }
   ],
   "source": [
    "# Generate a line plot of tumor volume vs. time point for a mouse treated with Capomulin\n",
    "capomulin = df.loc[['Capomulin']]\n",
    "capomulin = \n",
    "#lineplt = capomulin.plot.line(x='Timepoint',y='Tumor Volume (mm3)')\n"
   ]
  },
  {
   "cell_type": "code",
   "execution_count": 385,
   "id": "a519caa7",
   "metadata": {},
   "outputs": [
    {
     "data": {
      "text/html": [
       "<div>\n",
       "<style scoped>\n",
       "    .dataframe tbody tr th:only-of-type {\n",
       "        vertical-align: middle;\n",
       "    }\n",
       "\n",
       "    .dataframe tbody tr th {\n",
       "        vertical-align: top;\n",
       "    }\n",
       "\n",
       "    .dataframe thead th {\n",
       "        text-align: right;\n",
       "    }\n",
       "</style>\n",
       "<table border=\"1\" class=\"dataframe\">\n",
       "  <thead>\n",
       "    <tr style=\"text-align: right;\">\n",
       "      <th></th>\n",
       "      <th>Mean Tumor Volume</th>\n",
       "      <th>Weight (g)</th>\n",
       "    </tr>\n",
       "    <tr>\n",
       "      <th>Drug Regimen</th>\n",
       "      <th></th>\n",
       "      <th></th>\n",
       "    </tr>\n",
       "  </thead>\n",
       "  <tbody>\n",
       "    <tr>\n",
       "      <th>Capomulin</th>\n",
       "      <td>40.675741</td>\n",
       "      <td>19.965217</td>\n",
       "    </tr>\n",
       "    <tr>\n",
       "      <th>Ceftamin</th>\n",
       "      <td>52.591172</td>\n",
       "      <td>27.398876</td>\n",
       "    </tr>\n",
       "    <tr>\n",
       "      <th>Infubinol</th>\n",
       "      <td>52.884795</td>\n",
       "      <td>27.196629</td>\n",
       "    </tr>\n",
       "    <tr>\n",
       "      <th>Ketapril</th>\n",
       "      <td>55.235638</td>\n",
       "      <td>27.861702</td>\n",
       "    </tr>\n",
       "    <tr>\n",
       "      <th>Naftisol</th>\n",
       "      <td>54.331565</td>\n",
       "      <td>27.166667</td>\n",
       "    </tr>\n",
       "    <tr>\n",
       "      <th>Placebo</th>\n",
       "      <td>54.033581</td>\n",
       "      <td>27.928177</td>\n",
       "    </tr>\n",
       "    <tr>\n",
       "      <th>Propriva</th>\n",
       "      <td>52.322552</td>\n",
       "      <td>27.043478</td>\n",
       "    </tr>\n",
       "    <tr>\n",
       "      <th>Ramicane</th>\n",
       "      <td>40.216745</td>\n",
       "      <td>19.679825</td>\n",
       "    </tr>\n",
       "    <tr>\n",
       "      <th>Stelasyn</th>\n",
       "      <td>54.233149</td>\n",
       "      <td>27.856354</td>\n",
       "    </tr>\n",
       "    <tr>\n",
       "      <th>Zoniferol</th>\n",
       "      <td>53.236507</td>\n",
       "      <td>27.692308</td>\n",
       "    </tr>\n",
       "  </tbody>\n",
       "</table>\n",
       "</div>"
      ],
      "text/plain": [
       "              Mean Tumor Volume  Weight (g)\n",
       "Drug Regimen                               \n",
       "Capomulin             40.675741   19.965217\n",
       "Ceftamin              52.591172   27.398876\n",
       "Infubinol             52.884795   27.196629\n",
       "Ketapril              55.235638   27.861702\n",
       "Naftisol              54.331565   27.166667\n",
       "Placebo               54.033581   27.928177\n",
       "Propriva              52.322552   27.043478\n",
       "Ramicane              40.216745   19.679825\n",
       "Stelasyn              54.233149   27.856354\n",
       "Zoniferol             53.236507   27.692308"
      ]
     },
     "execution_count": 385,
     "metadata": {},
     "output_type": "execute_result"
    }
   ],
   "source": [
    "# Generate a scatter plot of average tumor volume vs. mouse weight for the Capomulin regimen\n",
    "\n",
    "#FLAG _ Need to group byy Capomulin not all drugs\n",
    "\n",
    "\n",
    "volume_weight_df = pd.DataFrame()\n",
    "mean_tumor_Cregimen = mouse_study_df.groupby('Drug Regimen')['Tumor Volume (mm3)'].mean()\n",
    "Cweight = mouse_study_df.groupby(['Drug Regimen'])['Weight (g)'].mean()\n",
    "\n",
    "volume_weight_df[\"Mean Tumor Volume\"] = mean_tumor_regimen\n",
    "volume_weight_df['Weight (g)'] = weight\n",
    "volume_weight_df.head(10)\n",
    "\n"
   ]
  },
  {
   "cell_type": "code",
   "execution_count": 382,
   "id": "94f63228",
   "metadata": {},
   "outputs": [
    {
     "data": {
      "image/png": "[encoded data removed]",
      "text/plain": [
       "<Figure size 432x288 with 1 Axes>"
      ]
     },
     "metadata": {
      "needs_background": "light"
     },
     "output_type": "display_data"
    }
   ],
   "source": [
    "weight_ax1 = volume_weight_df.plot.scatter(x='Weight (g)',y='Mean Tumor Volume',c='DarkBlue')\n"
   ]
  },
  {
   "cell_type": "code",
   "execution_count": null,
   "id": "5baf37aa",
   "metadata": {},
   "outputs": [],
   "source": []
  }
 ],
 "metadata": {
  "kernelspec": {
   "display_name": "Python 3 (ipykernel)",
   "language": "python",
   "name": "python3"
  },
  "language_info": {
   "codemirror_mode": {
    "name": "ipython",
    "version": 3
   },
   "file_extension": ".py",
   "mimetype": "text/x-python",
   "name": "python",
   "nbconvert_exporter": "python",
   "pygments_lexer": "ipython3",
   "version": "3.9.12"
  }
 },
 "nbformat": 4,
 "nbformat_minor": 5
}
